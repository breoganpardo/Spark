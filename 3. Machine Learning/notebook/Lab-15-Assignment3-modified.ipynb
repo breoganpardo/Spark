{
 "cells": [
  {
   "cell_type": "markdown",
   "metadata": {},
   "source": [
    "# Lab 16 Assignment 3 - Group Assignment\n",
    "\n",
    "When creating ML models, the concept of efficiency has three sides:\n",
    "1. The time dedicated by the analyst to build the model\n",
    "2. The computer time and resources needed by the final model\n",
    "3. The accuracy of the final model\n",
    "\n",
    "Efficiency is a combination of all\n",
    "\n",
    "In this assignment, you are asked to be efficient. Spark is the best tool to build models over massive datasets\n",
    "\n",
    "If you need to create Spark+Python Machine Learning models that \"run fast\" on the  cluster, you must avoid using Python code or working with RRD+python. Try to use  the already existing methods that do what you need (do not reinvent the wheel).\n",
    "\n",
    "Therefore try to use the implemented object+methods inside the Spark SQL and ML modules. They are very fast, because it is compiled Java/Scala code. Try to use: DataFrames, Feature Transfomers, Estimators, Pipelines, GridSearch, CV, ...\n",
    "\n",
    "For this assignment, you are asked to create a classification model that:\n",
    "1. Uses the variables in the dataset (train.csv) to predict label \"loan_status\"\n",
    "2. Write a python scripts that:\n",
    "    - Reads the \"train.csv\" and \"test.csv\" files, transform and select variables as you wish.\n",
    "    - Train/fit your model using the \"train.csv\".\n",
    "    - Predict your model on the \"test.csv\" ( you should generate a file with your predictions).\n",
    "    - I will use a different test dataset (with the true loan_status).\n",
    "\n",
    "Your work will be evaluated under the following scoring schema\n",
    "- (40%) ETL process\n",
    "- (40%) Model train process\n",
    "- (10%) Code Readability \n",
    "- (10%) AUC on the test set (at least 50%)\n",
    "\n",
    "Enjoy it and best of luck!!\n"
   ]
  },
  {
   "cell_type": "markdown",
   "metadata": {},
   "source": [
    "This Assignment is based on kaggle competition https://www.kaggle.com/c/loan-default-prediction from where a sub-dataset has been taken.\n",
    "\n",
    "### File descriptions\n",
    "**train.csv** - the training set (to use for building a model)\n",
    "\n",
    "**test.csv** - the test set (to use for applying predictings)\n",
    "\n",
    "**sample_submission.csv** - a template for the submission file\n",
    "\n",
    "### Data Description (also contained in LendingClub_DataDescription.csv)\n",
    "**ID**: A unique LC assigned ID for the loan listing.\n",
    "\n",
    "**loan_amnt**: The listed amount of the loan applied for by the borrower. If at some point in time, the credit department reduces the loan amount, then it will be reflected in this value.\n",
    "\n",
    "**loan_status**: Current status of the loan (**Target**: 1 = Charged Off, 0 = Fully Paid).\n",
    "\n",
    "**term**: The number of payments on the loan. Values are in months and can be either 36 or 60.\n",
    "\n",
    "**int_rate**: Interest Rate on the loan.\n",
    "\n",
    "**installment**: The monthly payment owed by the borrower if the loan originates.\n",
    "\n",
    "**emp_length**: Employment length in years. Possible values are between 0 and 10 where 0 means less than one year and 10 means ten or more years.\n",
    "\n",
    "**home_ownership**: The home ownership status provided by the borrower during registration. Our values are: OTHER/NONE, MORTGAGE, OWN, RENT.\n",
    "\n",
    "**annual_inc**: The self-reported annual income provided by the borrower during registration.\n",
    "\n",
    "**purpose**: A category provided by the borrower for the loan request.\n",
    "\n",
    "**title**: The loan title provided by the borrower.\n",
    "\n",
    "**STATE**: The state provided by the borrower in the loan application.\n",
    "\n",
    "**delinq_2yrs**: The number of 30+ days past-due incidences of delinquency in the borrower's credit file for the past 2 years.\n",
    "\n",
    "**revol_bal**: Total credit revolving balance.\n",
    "\n",
    "**revol_util**: Revolving line utilization rate, or the amount of credit the borrower is using relative to all available revolving credit.\n",
    "\n",
    "**total_pymnt**: Indicates total payment at the end of the loan."
   ]
  },
  {
   "cell_type": "code",
   "execution_count": 2,
   "metadata": {},
   "outputs": [
    {
     "ename": "ModuleNotFoundError",
     "evalue": "No module named 'pyspark'",
     "output_type": "error",
     "traceback": [
      "\u001b[1;31m---------------------------------------------------------------------------\u001b[0m",
      "\u001b[1;31mModuleNotFoundError\u001b[0m                       Traceback (most recent call last)",
      "\u001b[1;32m<ipython-input-2-c817e3a17189>\u001b[0m in \u001b[0;36m<module>\u001b[1;34m\u001b[0m\n\u001b[0;32m     16\u001b[0m \u001b[1;33m\u001b[0m\u001b[0m\n\u001b[0;32m     17\u001b[0m \u001b[1;31m#Initialize SparkSession and SparkContext\u001b[0m\u001b[1;33m\u001b[0m\u001b[1;33m\u001b[0m\u001b[1;33m\u001b[0m\u001b[0m\n\u001b[1;32m---> 18\u001b[1;33m \u001b[1;32mfrom\u001b[0m \u001b[0mpyspark\u001b[0m\u001b[1;33m.\u001b[0m\u001b[0msql\u001b[0m \u001b[1;32mimport\u001b[0m \u001b[0mSparkSession\u001b[0m\u001b[1;33m\u001b[0m\u001b[1;33m\u001b[0m\u001b[0m\n\u001b[0m\u001b[0;32m     19\u001b[0m \u001b[1;33m\u001b[0m\u001b[0m\n\u001b[0;32m     20\u001b[0m \u001b[1;31m#Create a Spark Session\u001b[0m\u001b[1;33m\u001b[0m\u001b[1;33m\u001b[0m\u001b[1;33m\u001b[0m\u001b[0m\n",
      "\u001b[1;31mModuleNotFoundError\u001b[0m: No module named 'pyspark'"
     ]
    }
   ],
   "source": [
    "import os\n",
    "import sys\n",
    "\n",
    "os.environ['SPARK_HOME'] = \"/Users/ailleren/Documents/Spark/spark-2.3.2-bin-hadoop2.7\"\n",
    "\n",
    "# Create a variable for our root path\n",
    "SPARK_HOME = os.environ['SPARK_HOME']\n",
    "\n",
    "#Add the following paths to the system path. Please check your installation\n",
    "#to make sure that these zip files actually exist. The names might change\n",
    "#as versions change.\n",
    "sys.path.insert(0,os.path.join(SPARK_HOME,\"python\"))\n",
    "sys.path.insert(0,os.path.join(SPARK_HOME,\"python\",\"lib\"))\n",
    "sys.path.insert(0,os.path.join(SPARK_HOME,\"python\",\"lib\",\"pyspark.zip\"))\n",
    "sys.path.insert(0,os.path.join(SPARK_HOME,\"python\",\"lib\",\"py4j-0.10.7-src.zip\"))\n",
    "\n",
    "#Initialize SparkSession and SparkContext\n",
    "from pyspark.sql import SparkSession\n",
    "\n",
    "#Create a Spark Session\n",
    "spark = SparkSession \\\n",
    "    .builder \\\n",
    "    .master(\"local[2]\") \\\n",
    "    .appName(\"MiPrimer\") \\\n",
    "    .config(\"spark.executor.memory\", \"6g\") \\\n",
    "    .config(\"spark.cores.max\",\"4\") \\\n",
    "    .getOrCreate()\n",
    "\n",
    "\n",
    "#Get the Spark Context from Spark Session    \n",
    "sc = spark.sparkContext"
   ]
  },
  {
   "cell_type": "markdown",
   "metadata": {},
   "source": [
    "### 1. Read the files into a Dataframes and show them"
   ]
  },
  {
   "cell_type": "code",
   "execution_count": 2,
   "metadata": {},
   "outputs": [],
   "source": [
    "loanDF = spark.read.format('csv') \\\n",
    "                .option(\"inferSchema\", \"true\") \\\n",
    "                .option(\"delimiter\", \";\") \\\n",
    "                .option('header','true') \\\n",
    "                .load('../data/train.csv')\n",
    "\n",
    "testDF = spark.read.format('csv') \\\n",
    "                .option(\"inferSchema\", \"true\") \\\n",
    "                .option(\"delimiter\", \";\") \\\n",
    "                .option('header','true') \\\n",
    "                .load('../data/test.csv')"
   ]
  },
  {
   "cell_type": "code",
   "execution_count": 3,
   "metadata": {},
   "outputs": [
    {
     "data": {
      "text/html": [
       "<div>\n",
       "<style scoped>\n",
       "    .dataframe tbody tr th:only-of-type {\n",
       "        vertical-align: middle;\n",
       "    }\n",
       "\n",
       "    .dataframe tbody tr th {\n",
       "        vertical-align: top;\n",
       "    }\n",
       "\n",
       "    .dataframe thead th {\n",
       "        text-align: right;\n",
       "    }\n",
       "</style>\n",
       "<table border=\"1\" class=\"dataframe\">\n",
       "  <thead>\n",
       "    <tr style=\"text-align: right;\">\n",
       "      <th></th>\n",
       "      <th>ID</th>\n",
       "      <th>loan_amnt</th>\n",
       "      <th>term</th>\n",
       "      <th>int_rate</th>\n",
       "      <th>installment</th>\n",
       "      <th>emp_length</th>\n",
       "      <th>home_ownership</th>\n",
       "      <th>annual_inc</th>\n",
       "      <th>purpose</th>\n",
       "      <th>title</th>\n",
       "      <th>STATE</th>\n",
       "      <th>delinq_2yrs</th>\n",
       "      <th>revol_bal</th>\n",
       "      <th>revol_util</th>\n",
       "      <th>total_pymnt</th>\n",
       "      <th>loan_status</th>\n",
       "    </tr>\n",
       "  </thead>\n",
       "  <tbody>\n",
       "    <tr>\n",
       "      <th>0</th>\n",
       "      <td>2</td>\n",
       "      <td>2500</td>\n",
       "      <td>60 months</td>\n",
       "      <td>15.27%</td>\n",
       "      <td>59.83</td>\n",
       "      <td>&lt; 1 year</td>\n",
       "      <td>RENT</td>\n",
       "      <td>30000.0</td>\n",
       "      <td>car</td>\n",
       "      <td>bike</td>\n",
       "      <td>GA</td>\n",
       "      <td>0</td>\n",
       "      <td>1687</td>\n",
       "      <td>0.094</td>\n",
       "      <td>1014.530000</td>\n",
       "      <td>1</td>\n",
       "    </tr>\n",
       "    <tr>\n",
       "      <th>1</th>\n",
       "      <td>4</td>\n",
       "      <td>10000</td>\n",
       "      <td>36 months</td>\n",
       "      <td>13.49%</td>\n",
       "      <td>339.31</td>\n",
       "      <td>10+ years</td>\n",
       "      <td>RENT</td>\n",
       "      <td>49200.0</td>\n",
       "      <td>other</td>\n",
       "      <td>personel</td>\n",
       "      <td>CA</td>\n",
       "      <td>0</td>\n",
       "      <td>5598</td>\n",
       "      <td>0.21</td>\n",
       "      <td>12231.890000</td>\n",
       "      <td>0</td>\n",
       "    </tr>\n",
       "    <tr>\n",
       "      <th>2</th>\n",
       "      <td>5</td>\n",
       "      <td>3000</td>\n",
       "      <td>60 months</td>\n",
       "      <td>12.69%</td>\n",
       "      <td>67.79</td>\n",
       "      <td>1 year</td>\n",
       "      <td>RENT</td>\n",
       "      <td>80000.0</td>\n",
       "      <td>other</td>\n",
       "      <td>Personal</td>\n",
       "      <td>OR</td>\n",
       "      <td>0</td>\n",
       "      <td>27783</td>\n",
       "      <td>0.539</td>\n",
       "      <td>4066.908161</td>\n",
       "      <td>0</td>\n",
       "    </tr>\n",
       "    <tr>\n",
       "      <th>3</th>\n",
       "      <td>6</td>\n",
       "      <td>5000</td>\n",
       "      <td>36 months</td>\n",
       "      <td>7.90%</td>\n",
       "      <td>156.46</td>\n",
       "      <td>3 years</td>\n",
       "      <td>RENT</td>\n",
       "      <td>36000.0</td>\n",
       "      <td>wedding</td>\n",
       "      <td>My wedding loan I promise to pay back</td>\n",
       "      <td>AZ</td>\n",
       "      <td>0</td>\n",
       "      <td>7963</td>\n",
       "      <td>0.283</td>\n",
       "      <td>5632.210000</td>\n",
       "      <td>0</td>\n",
       "    </tr>\n",
       "    <tr>\n",
       "      <th>4</th>\n",
       "      <td>7</td>\n",
       "      <td>7000</td>\n",
       "      <td>60 months</td>\n",
       "      <td>15.96%</td>\n",
       "      <td>170.08</td>\n",
       "      <td>8 years</td>\n",
       "      <td>RENT</td>\n",
       "      <td>47004.0</td>\n",
       "      <td>debt_consolidation</td>\n",
       "      <td>Loan</td>\n",
       "      <td>NC</td>\n",
       "      <td>0</td>\n",
       "      <td>17726</td>\n",
       "      <td>0.856</td>\n",
       "      <td>10137.840010</td>\n",
       "      <td>0</td>\n",
       "    </tr>\n",
       "    <tr>\n",
       "      <th>5</th>\n",
       "      <td>8</td>\n",
       "      <td>3000</td>\n",
       "      <td>36 months</td>\n",
       "      <td>18.64%</td>\n",
       "      <td>109.43</td>\n",
       "      <td>9 years</td>\n",
       "      <td>RENT</td>\n",
       "      <td>48000.0</td>\n",
       "      <td>car</td>\n",
       "      <td>Car Downpayment</td>\n",
       "      <td>CA</td>\n",
       "      <td>0</td>\n",
       "      <td>8221</td>\n",
       "      <td>0.875</td>\n",
       "      <td>3939.135294</td>\n",
       "      <td>0</td>\n",
       "    </tr>\n",
       "    <tr>\n",
       "      <th>6</th>\n",
       "      <td>10</td>\n",
       "      <td>5375</td>\n",
       "      <td>60 months</td>\n",
       "      <td>12.69%</td>\n",
       "      <td>121.45</td>\n",
       "      <td>&lt; 1 year</td>\n",
       "      <td>RENT</td>\n",
       "      <td>15000.0</td>\n",
       "      <td>other</td>\n",
       "      <td>Building my credit history.</td>\n",
       "      <td>TX</td>\n",
       "      <td>0</td>\n",
       "      <td>9279</td>\n",
       "      <td>0.365</td>\n",
       "      <td>1484.590000</td>\n",
       "      <td>1</td>\n",
       "    </tr>\n",
       "    <tr>\n",
       "      <th>7</th>\n",
       "      <td>11</td>\n",
       "      <td>6500</td>\n",
       "      <td>60 months</td>\n",
       "      <td>14.65%</td>\n",
       "      <td>153.45</td>\n",
       "      <td>5 years</td>\n",
       "      <td>OWN</td>\n",
       "      <td>72000.0</td>\n",
       "      <td>debt_consolidation</td>\n",
       "      <td>High intrest Consolidation</td>\n",
       "      <td>AZ</td>\n",
       "      <td>0</td>\n",
       "      <td>4032</td>\n",
       "      <td>0.206</td>\n",
       "      <td>7678.017673</td>\n",
       "      <td>0</td>\n",
       "    </tr>\n",
       "    <tr>\n",
       "      <th>8</th>\n",
       "      <td>12</td>\n",
       "      <td>12000</td>\n",
       "      <td>36 months</td>\n",
       "      <td>12.69%</td>\n",
       "      <td>402.54</td>\n",
       "      <td>10+ years</td>\n",
       "      <td>OWN</td>\n",
       "      <td>75000.0</td>\n",
       "      <td>debt_consolidation</td>\n",
       "      <td>Consolidation</td>\n",
       "      <td>CA</td>\n",
       "      <td>0</td>\n",
       "      <td>23336</td>\n",
       "      <td>0.671</td>\n",
       "      <td>13947.989160</td>\n",
       "      <td>0</td>\n",
       "    </tr>\n",
       "    <tr>\n",
       "      <th>9</th>\n",
       "      <td>14</td>\n",
       "      <td>3000</td>\n",
       "      <td>36 months</td>\n",
       "      <td>9.91%</td>\n",
       "      <td>96.68</td>\n",
       "      <td>3 years</td>\n",
       "      <td>RENT</td>\n",
       "      <td>15000.0</td>\n",
       "      <td>credit_card</td>\n",
       "      <td>citicard fund</td>\n",
       "      <td>IL</td>\n",
       "      <td>0</td>\n",
       "      <td>7323</td>\n",
       "      <td>0.431</td>\n",
       "      <td>3480.269999</td>\n",
       "      <td>0</td>\n",
       "    </tr>\n",
       "  </tbody>\n",
       "</table>\n",
       "</div>"
      ],
      "text/plain": [
       "   ID  loan_amnt        term int_rate  installment emp_length home_ownership  \\\n",
       "0   2       2500   60 months   15.27%        59.83   < 1 year           RENT   \n",
       "1   4      10000   36 months   13.49%       339.31  10+ years           RENT   \n",
       "2   5       3000   60 months   12.69%        67.79     1 year           RENT   \n",
       "3   6       5000   36 months    7.90%       156.46    3 years           RENT   \n",
       "4   7       7000   60 months   15.96%       170.08    8 years           RENT   \n",
       "5   8       3000   36 months   18.64%       109.43    9 years           RENT   \n",
       "6  10       5375   60 months   12.69%       121.45   < 1 year           RENT   \n",
       "7  11       6500   60 months   14.65%       153.45    5 years            OWN   \n",
       "8  12      12000   36 months   12.69%       402.54  10+ years            OWN   \n",
       "9  14       3000   36 months    9.91%        96.68    3 years           RENT   \n",
       "\n",
       "   annual_inc             purpose                                  title  \\\n",
       "0     30000.0                 car                                   bike   \n",
       "1     49200.0               other                               personel   \n",
       "2     80000.0               other                               Personal   \n",
       "3     36000.0             wedding  My wedding loan I promise to pay back   \n",
       "4     47004.0  debt_consolidation                                   Loan   \n",
       "5     48000.0                 car                        Car Downpayment   \n",
       "6     15000.0               other            Building my credit history.   \n",
       "7     72000.0  debt_consolidation             High intrest Consolidation   \n",
       "8     75000.0  debt_consolidation                          Consolidation   \n",
       "9     15000.0         credit_card                          citicard fund   \n",
       "\n",
       "  STATE  delinq_2yrs  revol_bal revol_util   total_pymnt  loan_status  \n",
       "0    GA            0       1687      0.094   1014.530000            1  \n",
       "1    CA            0       5598       0.21  12231.890000            0  \n",
       "2    OR            0      27783      0.539   4066.908161            0  \n",
       "3    AZ            0       7963      0.283   5632.210000            0  \n",
       "4    NC            0      17726      0.856  10137.840010            0  \n",
       "5    CA            0       8221      0.875   3939.135294            0  \n",
       "6    TX            0       9279      0.365   1484.590000            1  \n",
       "7    AZ            0       4032      0.206   7678.017673            0  \n",
       "8    CA            0      23336      0.671  13947.989160            0  \n",
       "9    IL            0       7323      0.431   3480.269999            0  "
      ]
     },
     "execution_count": 3,
     "metadata": {},
     "output_type": "execute_result"
    }
   ],
   "source": [
    "loanDF.limit(10).toPandas()"
   ]
  },
  {
   "cell_type": "code",
   "execution_count": 4,
   "metadata": {},
   "outputs": [
    {
     "data": {
      "text/html": [
       "<div>\n",
       "<style scoped>\n",
       "    .dataframe tbody tr th:only-of-type {\n",
       "        vertical-align: middle;\n",
       "    }\n",
       "\n",
       "    .dataframe tbody tr th {\n",
       "        vertical-align: top;\n",
       "    }\n",
       "\n",
       "    .dataframe thead th {\n",
       "        text-align: right;\n",
       "    }\n",
       "</style>\n",
       "<table border=\"1\" class=\"dataframe\">\n",
       "  <thead>\n",
       "    <tr style=\"text-align: right;\">\n",
       "      <th></th>\n",
       "      <th>ID</th>\n",
       "      <th>loan_amnt</th>\n",
       "      <th>term</th>\n",
       "      <th>int_rate</th>\n",
       "      <th>installment</th>\n",
       "      <th>emp_length</th>\n",
       "      <th>home_ownership</th>\n",
       "      <th>annual_inc</th>\n",
       "      <th>purpose</th>\n",
       "      <th>title</th>\n",
       "      <th>STATE</th>\n",
       "      <th>delinq_2yrs</th>\n",
       "      <th>revol_bal</th>\n",
       "      <th>revol_util</th>\n",
       "      <th>total_pymnt</th>\n",
       "      <th>loan_status</th>\n",
       "    </tr>\n",
       "  </thead>\n",
       "  <tbody>\n",
       "    <tr>\n",
       "      <th>0</th>\n",
       "      <td>1</td>\n",
       "      <td>5000</td>\n",
       "      <td>36 months</td>\n",
       "      <td>10.65%</td>\n",
       "      <td>162.87</td>\n",
       "      <td>10+ years</td>\n",
       "      <td>RENT</td>\n",
       "      <td>24000.0</td>\n",
       "      <td>credit_card</td>\n",
       "      <td>Computer</td>\n",
       "      <td>AZ</td>\n",
       "      <td>0</td>\n",
       "      <td>13648</td>\n",
       "      <td>0.84</td>\n",
       "      <td>5863.155187</td>\n",
       "      <td>1</td>\n",
       "    </tr>\n",
       "    <tr>\n",
       "      <th>1</th>\n",
       "      <td>3</td>\n",
       "      <td>2400</td>\n",
       "      <td>36 months</td>\n",
       "      <td>15.96%</td>\n",
       "      <td>84.33</td>\n",
       "      <td>10+ years</td>\n",
       "      <td>RENT</td>\n",
       "      <td>12252.0</td>\n",
       "      <td>small_business</td>\n",
       "      <td>real estate business</td>\n",
       "      <td>IL</td>\n",
       "      <td>0</td>\n",
       "      <td>2956</td>\n",
       "      <td>0.99</td>\n",
       "      <td>3005.666844</td>\n",
       "      <td>1</td>\n",
       "    </tr>\n",
       "    <tr>\n",
       "      <th>2</th>\n",
       "      <td>9</td>\n",
       "      <td>5600</td>\n",
       "      <td>60 months</td>\n",
       "      <td>21.28%</td>\n",
       "      <td>152.39</td>\n",
       "      <td>4 years</td>\n",
       "      <td>OWN</td>\n",
       "      <td>40000.0</td>\n",
       "      <td>small_business</td>\n",
       "      <td>Expand Business &amp; Buy Debt Portfolio</td>\n",
       "      <td>CA</td>\n",
       "      <td>0</td>\n",
       "      <td>5210</td>\n",
       "      <td>0.33</td>\n",
       "      <td>647.500000</td>\n",
       "      <td>1</td>\n",
       "    </tr>\n",
       "    <tr>\n",
       "      <th>3</th>\n",
       "      <td>13</td>\n",
       "      <td>9000</td>\n",
       "      <td>36 months</td>\n",
       "      <td>13.49%</td>\n",
       "      <td>305.38</td>\n",
       "      <td>&lt; 1 year</td>\n",
       "      <td>RENT</td>\n",
       "      <td>30000.0</td>\n",
       "      <td>debt_consolidation</td>\n",
       "      <td>freedom</td>\n",
       "      <td>VA</td>\n",
       "      <td>0</td>\n",
       "      <td>10452</td>\n",
       "      <td>0.92</td>\n",
       "      <td>2277.320000</td>\n",
       "      <td>1</td>\n",
       "    </tr>\n",
       "    <tr>\n",
       "      <th>4</th>\n",
       "      <td>15</td>\n",
       "      <td>10000</td>\n",
       "      <td>36 months</td>\n",
       "      <td>10.65%</td>\n",
       "      <td>325.74</td>\n",
       "      <td>3 years</td>\n",
       "      <td>RENT</td>\n",
       "      <td>100000.0</td>\n",
       "      <td>other</td>\n",
       "      <td>Other Loan</td>\n",
       "      <td>CA</td>\n",
       "      <td>0</td>\n",
       "      <td>11997</td>\n",
       "      <td>0.56</td>\n",
       "      <td>7471.990000</td>\n",
       "      <td>1</td>\n",
       "    </tr>\n",
       "    <tr>\n",
       "      <th>5</th>\n",
       "      <td>18</td>\n",
       "      <td>3600</td>\n",
       "      <td>36 months</td>\n",
       "      <td>6.03%</td>\n",
       "      <td>109.57</td>\n",
       "      <td>10+ years</td>\n",
       "      <td>MORTGAGE</td>\n",
       "      <td>110000.0</td>\n",
       "      <td>major_purchase</td>\n",
       "      <td>Holiday</td>\n",
       "      <td>CT</td>\n",
       "      <td>0</td>\n",
       "      <td>22836</td>\n",
       "      <td>0.16</td>\n",
       "      <td>3785.271965</td>\n",
       "      <td>1</td>\n",
       "    </tr>\n",
       "    <tr>\n",
       "      <th>6</th>\n",
       "      <td>26</td>\n",
       "      <td>15000</td>\n",
       "      <td>36 months</td>\n",
       "      <td>9.91%</td>\n",
       "      <td>483.38</td>\n",
       "      <td>2 years</td>\n",
       "      <td>MORTGAGE</td>\n",
       "      <td>92000.0</td>\n",
       "      <td>credit_card</td>\n",
       "      <td>No more credit card debt!</td>\n",
       "      <td>IL</td>\n",
       "      <td>0</td>\n",
       "      <td>13707</td>\n",
       "      <td>0.94</td>\n",
       "      <td>15823.999050</td>\n",
       "      <td>1</td>\n",
       "    </tr>\n",
       "    <tr>\n",
       "      <th>7</th>\n",
       "      <td>27</td>\n",
       "      <td>15000</td>\n",
       "      <td>36 months</td>\n",
       "      <td>14.27%</td>\n",
       "      <td>514.64</td>\n",
       "      <td>9 years</td>\n",
       "      <td>RENT</td>\n",
       "      <td>60000.0</td>\n",
       "      <td>debt_consolidation</td>\n",
       "      <td>consolidation</td>\n",
       "      <td>NY</td>\n",
       "      <td>0</td>\n",
       "      <td>5872</td>\n",
       "      <td>0.58</td>\n",
       "      <td>0.000000</td>\n",
       "      <td>1</td>\n",
       "    </tr>\n",
       "    <tr>\n",
       "      <th>8</th>\n",
       "      <td>29</td>\n",
       "      <td>4000</td>\n",
       "      <td>36 months</td>\n",
       "      <td>11.71%</td>\n",
       "      <td>132.31</td>\n",
       "      <td>10+ years</td>\n",
       "      <td>MORTGAGE</td>\n",
       "      <td>106000.0</td>\n",
       "      <td>debt_consolidation</td>\n",
       "      <td>Debt Consolidation</td>\n",
       "      <td>FL</td>\n",
       "      <td>1</td>\n",
       "      <td>6110</td>\n",
       "      <td>0.38</td>\n",
       "      <td>4486.293519</td>\n",
       "      <td>1</td>\n",
       "    </tr>\n",
       "    <tr>\n",
       "      <th>9</th>\n",
       "      <td>31</td>\n",
       "      <td>4375</td>\n",
       "      <td>36 months</td>\n",
       "      <td>7.51%</td>\n",
       "      <td>136.11</td>\n",
       "      <td>7 years</td>\n",
       "      <td>MORTGAGE</td>\n",
       "      <td>17108.0</td>\n",
       "      <td>debt_consolidation</td>\n",
       "      <td>Debt Consolidation</td>\n",
       "      <td>NY</td>\n",
       "      <td>0</td>\n",
       "      <td>11210</td>\n",
       "      <td>0.87</td>\n",
       "      <td>4899.960000</td>\n",
       "      <td>1</td>\n",
       "    </tr>\n",
       "  </tbody>\n",
       "</table>\n",
       "</div>"
      ],
      "text/plain": [
       "   ID  loan_amnt        term int_rate  installment emp_length home_ownership  \\\n",
       "0   1       5000   36 months   10.65%       162.87  10+ years           RENT   \n",
       "1   3       2400   36 months   15.96%        84.33  10+ years           RENT   \n",
       "2   9       5600   60 months   21.28%       152.39    4 years            OWN   \n",
       "3  13       9000   36 months   13.49%       305.38   < 1 year           RENT   \n",
       "4  15      10000   36 months   10.65%       325.74    3 years           RENT   \n",
       "5  18       3600   36 months    6.03%       109.57  10+ years       MORTGAGE   \n",
       "6  26      15000   36 months    9.91%       483.38    2 years       MORTGAGE   \n",
       "7  27      15000   36 months   14.27%       514.64    9 years           RENT   \n",
       "8  29       4000   36 months   11.71%       132.31  10+ years       MORTGAGE   \n",
       "9  31       4375   36 months    7.51%       136.11    7 years       MORTGAGE   \n",
       "\n",
       "   annual_inc             purpose                                 title STATE  \\\n",
       "0     24000.0         credit_card                              Computer    AZ   \n",
       "1     12252.0      small_business                  real estate business    IL   \n",
       "2     40000.0      small_business  Expand Business & Buy Debt Portfolio    CA   \n",
       "3     30000.0  debt_consolidation                               freedom    VA   \n",
       "4    100000.0               other                            Other Loan    CA   \n",
       "5    110000.0      major_purchase                               Holiday    CT   \n",
       "6     92000.0         credit_card             No more credit card debt!    IL   \n",
       "7     60000.0  debt_consolidation                         consolidation    NY   \n",
       "8    106000.0  debt_consolidation                    Debt Consolidation    FL   \n",
       "9     17108.0  debt_consolidation                    Debt Consolidation    NY   \n",
       "\n",
       "   delinq_2yrs  revol_bal revol_util   total_pymnt  loan_status  \n",
       "0            0      13648       0.84   5863.155187            1  \n",
       "1            0       2956       0.99   3005.666844            1  \n",
       "2            0       5210       0.33    647.500000            1  \n",
       "3            0      10452       0.92   2277.320000            1  \n",
       "4            0      11997       0.56   7471.990000            1  \n",
       "5            0      22836       0.16   3785.271965            1  \n",
       "6            0      13707       0.94  15823.999050            1  \n",
       "7            0       5872       0.58      0.000000            1  \n",
       "8            1       6110       0.38   4486.293519            1  \n",
       "9            0      11210       0.87   4899.960000            1  "
      ]
     },
     "execution_count": 4,
     "metadata": {},
     "output_type": "execute_result"
    }
   ],
   "source": [
    "testDF.limit(10).toPandas()"
   ]
  },
  {
   "cell_type": "markdown",
   "metadata": {},
   "source": [
    "### 2. Analizing null values, cross tables distribution and covariances"
   ]
  },
  {
   "cell_type": "markdown",
   "metadata": {},
   "source": [
    "#### ETL summary"
   ]
  },
  {
   "cell_type": "markdown",
   "metadata": {},
   "source": [
    "You should explain how you are going to clean and prepare the data"
   ]
  },
  {
   "cell_type": "code",
   "execution_count": null,
   "metadata": {},
   "outputs": [],
   "source": [
    "#Import libraries and functions required in the process\n",
    "from pyspark.sql.functions import isnan\n",
    "from pyspark.sql.types import FloatType\n",
    "import matplotlib.pyplot as plt\n"
   ]
  },
  {
   "cell_type": "code",
   "execution_count": 76,
   "metadata": {},
   "outputs": [
    {
     "data": {
      "text/plain": [
       "[('ID', 'int'),\n",
       " ('loan_amnt', 'int'),\n",
       " ('term', 'string'),\n",
       " ('int_rate', 'string'),\n",
       " ('installment', 'double'),\n",
       " ('emp_length', 'string'),\n",
       " ('home_ownership', 'string'),\n",
       " ('annual_inc', 'double'),\n",
       " ('purpose', 'string'),\n",
       " ('title', 'string'),\n",
       " ('STATE', 'string'),\n",
       " ('delinq_2yrs', 'int'),\n",
       " ('revol_bal', 'int'),\n",
       " ('revol_util', 'string'),\n",
       " ('total_pymnt', 'double'),\n",
       " ('loan_status', 'int')]"
      ]
     },
     "execution_count": 76,
     "metadata": {},
     "output_type": "execute_result"
    }
   ],
   "source": [
    "loanDF.dtypes\n",
    "#loanDF.describe().show()"
   ]
  },
  {
   "cell_type": "code",
   "execution_count": 30,
   "metadata": {},
   "outputs": [
    {
     "data": {
      "text/plain": [
       "[('ID', 'int'),\n",
       " ('loan_amnt', 'int'),\n",
       " ('term', 'string'),\n",
       " ('int_rate', 'string'),\n",
       " ('installment', 'double'),\n",
       " ('emp_length', 'string'),\n",
       " ('home_ownership', 'string'),\n",
       " ('annual_inc', 'double'),\n",
       " ('purpose', 'string'),\n",
       " ('title', 'string'),\n",
       " ('STATE', 'string'),\n",
       " ('delinq_2yrs', 'int'),\n",
       " ('revol_bal', 'int'),\n",
       " ('revol_util', 'string'),\n",
       " ('total_pymnt', 'double'),\n",
       " ('loan_status', 'int'),\n",
       " ('int_rate_num', 'float'),\n",
       " ('revol_util_num', 'float')]"
      ]
     },
     "execution_count": 30,
     "metadata": {},
     "output_type": "execute_result"
    }
   ],
   "source": [
    "#We notice Interest rate and Revolving utilization line were read as String. Hence, we create new columns as Float.\n",
    "loanDF1 = loanDF.withColumn('int_rate_num', loanDF['int_rate'].substr(1, 4))\n",
    "loanDF2 = loanDF1.withColumn(\"int_rate_num\", loanDF1[\"int_rate_num\"].cast(FloatType()))\n",
    "loanDF3 = loanDF2.withColumn('revol_util_num', loanDF2['revol_util'].substr(1, 4))\n",
    "loanDF4 = loanDF3.withColumn(\"revol_util_num\", loanDF3[\"revol_util_num\"].cast(FloatType()))\n",
    "\n",
    "loanDF4.limit(10).toPandas()\n",
    "loanDF4.dtypes"
   ]
  },
  {
   "cell_type": "markdown",
   "metadata": {},
   "source": [
    "Exploring data: 'Five Number summary' and 'Missing or NA analysis'"
   ]
  },
  {
   "cell_type": "code",
   "execution_count": 38,
   "metadata": {},
   "outputs": [
    {
     "data": {
      "image/png": "[encoded data removed]",
      "text/plain": [
       "<Figure size 432x288 with 1 Axes>"
      ]
     },
     "metadata": {
      "needs_background": "light"
     },
     "output_type": "display_data"
    }
   ],
   "source": [
    "####Calculating Min, Q1, Median, Mean, Q3 and Max values for each numeric variable####\n",
    "\n",
    "#Loan Amount\n",
    "summary = loanDF4.describe(\"loan_amnt\")\n",
    "#summary.printSchema()\n",
    "#summary.show()\n",
    "pandaDf = summary.toPandas()\n",
    "min_string = pandaDf[pandaDf['summary'] == 'min']['loan_amnt'].iloc[0]\n",
    "max_string = pandaDf[pandaDf['summary'] == 'max']['loan_amnt'].iloc[0]\n",
    "mean_string = pandaDf[pandaDf['summary'] == 'mean']['loan_amnt'].iloc[0]\n",
    "\n",
    "medianAndQuantiles = loanDF4.stat.approxQuantile(\"loan_amnt\",[0.25,0.5,0.75],0.0)\n",
    "(q1,median,q3) = (medianAndQuantiles[0], medianAndQuantiles[1], medianAndQuantiles[2])\n",
    "\n",
    "#Boxplot from precomputed values\n",
    "item = {}\n",
    "\n",
    "item[\"label\"] = 'Loan Amount' \n",
    "item[\"mean\"] = float(mean_string) \n",
    "item[\"med\"] = median \n",
    "item[\"q1\"] = q1\n",
    "item[\"q3\"] = q3\n",
    "item[\"whislo\"] = float(min_string) \n",
    "item[\"whishi\"] = float(max_string)\n",
    "item[\"fliers\"] = []\n",
    "stats = [item]\n",
    "\n",
    "fig, axes = plt.subplots(1, 1)\n",
    "axes.bxp(stats)\n",
    "axes.set_title('Five Point Summary')\n",
    "plt.show()"
   ]
  },
  {
   "cell_type": "code",
   "execution_count": 59,
   "metadata": {},
   "outputs": [
    {
     "data": {
      "text/plain": [
       "0"
      ]
     },
     "execution_count": 59,
     "metadata": {},
     "output_type": "execute_result"
    }
   ],
   "source": [
    "#Show missing values (maybe keep)\n",
    "loanDF.filter((loanDF[\"loan_amnt\"] == \"\") | loanDF[\"loan_amnt\"].isNull() | isnan(loanDF[\"loan_amnt\"])).count()"
   ]
  },
  {
   "cell_type": "code",
   "execution_count": 40,
   "metadata": {},
   "outputs": [
    {
     "data": {
      "image/png": "[encoded data removed]",
      "text/plain": [
       "<Figure size 432x288 with 1 Axes>"
      ]
     },
     "metadata": {
      "needs_background": "light"
     },
     "output_type": "display_data"
    }
   ],
   "source": [
    "#Interest Rate\n",
    "summary = loanDF4.describe(\"int_rate_num\")\n",
    "#summary.printSchema()\n",
    "#summary.show()\n",
    "pandaDf = summary.toPandas()\n",
    "min_string = pandaDf[pandaDf['summary'] == 'min']['int_rate_num'].iloc[0]\n",
    "max_string = pandaDf[pandaDf['summary'] == 'max']['int_rate_num'].iloc[0]\n",
    "mean_string = pandaDf[pandaDf['summary'] == 'mean']['int_rate_num'].iloc[0]\n",
    "\n",
    "medianAndQuantiles = loanDF4.stat.approxQuantile(\"int_rate_num\",[0.25,0.5,0.75],0.0)\n",
    "(q1,median,q3) = (medianAndQuantiles[0], medianAndQuantiles[1], medianAndQuantiles[2])\n",
    "\n",
    "#Boxplot from precomputed values\n",
    "item = {}\n",
    "\n",
    "item[\"label\"] = 'Interest Rate' \n",
    "item[\"mean\"] = float(mean_string) \n",
    "item[\"med\"] = median \n",
    "item[\"q1\"] = q1\n",
    "item[\"q3\"] = q3\n",
    "item[\"whislo\"] = float(min_string) \n",
    "item[\"whishi\"] = float(max_string)\n",
    "item[\"fliers\"] = []\n",
    "stats = [item]\n",
    "\n",
    "fig, axes = plt.subplots(1, 1)\n",
    "axes.bxp(stats)\n",
    "axes.set_title('Five Point Summary')\n",
    "plt.show()"
   ]
  },
  {
   "cell_type": "code",
   "execution_count": 33,
   "metadata": {},
   "outputs": [
    {
     "data": {
      "image/png": "[encoded data removed]",
      "text/plain": [
       "<Figure size 432x288 with 1 Axes>"
      ]
     },
     "metadata": {
      "needs_background": "light"
     },
     "output_type": "display_data"
    }
   ],
   "source": [
    "#Installment\n",
    "summary = loanDF4.describe(\"installment\")\n",
    "#summary.printSchema()\n",
    "#summary.show()\n",
    "pandaDf = summary.toPandas()\n",
    "min_string = pandaDf[pandaDf['summary'] == 'min']['installment'].iloc[0]\n",
    "max_string = pandaDf[pandaDf['summary'] == 'max']['installment'].iloc[0]\n",
    "mean_string = pandaDf[pandaDf['summary'] == 'mean']['installment'].iloc[0]\n",
    "\n",
    "medianAndQuantiles = loanDF4.stat.approxQuantile(\"installment\",[0.25,0.5,0.75],0.0)\n",
    "(q1,median,q3) = (medianAndQuantiles[0], medianAndQuantiles[1], medianAndQuantiles[2])\n",
    "\n",
    "#Boxplot from precomputed values\n",
    "item = {}\n",
    "\n",
    "item[\"label\"] = 'Installment' \n",
    "item[\"mean\"] = float(mean_string) \n",
    "item[\"med\"] = median \n",
    "item[\"q1\"] = q1\n",
    "item[\"q3\"] = q3\n",
    "item[\"whislo\"] = float(min_string) \n",
    "item[\"whishi\"] = float(max_string)\n",
    "item[\"fliers\"] = []\n",
    "stats = [item]\n",
    "\n",
    "fig, axes = plt.subplots(1, 1)\n",
    "axes.bxp(stats)\n",
    "axes.set_title('Five Point Summary')\n",
    "plt.show()"
   ]
  },
  {
   "cell_type": "code",
   "execution_count": 37,
   "metadata": {},
   "outputs": [
    {
     "data": {
      "image/png": "[encoded data removed]",
      "text/plain": [
       "<Figure size 432x288 with 1 Axes>"
      ]
     },
     "metadata": {
      "needs_background": "light"
     },
     "output_type": "display_data"
    }
   ],
   "source": [
    "#Annual Income\n",
    "summary = loanDF4.describe(\"annual_inc\")\n",
    "#summary.printSchema()\n",
    "#summary.show()\n",
    "pandaDf = summary.toPandas()\n",
    "min_string = pandaDf[pandaDf['summary'] == 'min']['annual_inc'].iloc[0]\n",
    "max_string = pandaDf[pandaDf['summary'] == 'max']['annual_inc'].iloc[0]\n",
    "mean_string = pandaDf[pandaDf['summary'] == 'mean']['annual_inc'].iloc[0]\n",
    "\n",
    "medianAndQuantiles = loanDF4.stat.approxQuantile(\"annual_inc\",[0.25,0.5,0.75],0.0)\n",
    "(q1,median,q3) = (medianAndQuantiles[0], medianAndQuantiles[1], medianAndQuantiles[2])\n",
    "\n",
    "#Boxplot from precomputed values\n",
    "item = {}\n",
    "\n",
    "item[\"label\"] = 'Annual Income' \n",
    "item[\"mean\"] = float(mean_string) \n",
    "item[\"med\"] = median \n",
    "item[\"q1\"] = q1\n",
    "item[\"q3\"] = q3\n",
    "item[\"whislo\"] = float(min_string) \n",
    "item[\"whishi\"] = float(max_string)\n",
    "item[\"fliers\"] = []\n",
    "stats = [item]\n",
    "\n",
    "fig, axes = plt.subplots(1, 1)\n",
    "axes.bxp(stats)\n",
    "axes.set_title('Five Point Summary')\n",
    "plt.show()"
   ]
  },
  {
   "cell_type": "code",
   "execution_count": 36,
   "metadata": {},
   "outputs": [
    {
     "data": {
      "image/png": "[encoded data removed]",
      "text/plain": [
       "<Figure size 432x288 with 1 Axes>"
      ]
     },
     "metadata": {
      "needs_background": "light"
     },
     "output_type": "display_data"
    }
   ],
   "source": [
    "#Delinquency - 2 years\n",
    "summary = loanDF4.describe(\"delinq_2yrs\")\n",
    "#summary.printSchema()\n",
    "#summary.show()\n",
    "pandaDf = summary.toPandas()\n",
    "min_string = pandaDf[pandaDf['summary'] == 'min']['delinq_2yrs'].iloc[0]\n",
    "max_string = pandaDf[pandaDf['summary'] == 'max']['delinq_2yrs'].iloc[0]\n",
    "mean_string = pandaDf[pandaDf['summary'] == 'mean']['delinq_2yrs'].iloc[0]\n",
    "\n",
    "medianAndQuantiles = loanDF4.stat.approxQuantile(\"delinq_2yrs\",[0.25,0.5,0.75],0.0)\n",
    "(q1,median,q3) = (medianAndQuantiles[0], medianAndQuantiles[1], medianAndQuantiles[2])\n",
    "\n",
    "#Boxplot from precomputed values\n",
    "item = {}\n",
    "\n",
    "item[\"label\"] = 'Delinquency - 2 years' \n",
    "item[\"mean\"] = float(mean_string) \n",
    "item[\"med\"] = median \n",
    "item[\"q1\"] = q1\n",
    "item[\"q3\"] = q3\n",
    "item[\"whislo\"] = float(min_string) \n",
    "item[\"whishi\"] = float(max_string)\n",
    "item[\"fliers\"] = []\n",
    "stats = [item]\n",
    "\n",
    "fig, axes = plt.subplots(1, 1)\n",
    "axes.bxp(stats)\n",
    "axes.set_title('Five Point Summary')\n",
    "plt.show()"
   ]
  },
  {
   "cell_type": "code",
   "execution_count": 39,
   "metadata": {},
   "outputs": [
    {
     "data": {
      "image/png": "[encoded data removed]",
      "text/plain": [
       "<Figure size 432x288 with 1 Axes>"
      ]
     },
     "metadata": {
      "needs_background": "light"
     },
     "output_type": "display_data"
    }
   ],
   "source": [
    "#Revolving balance\n",
    "summary = loanDF4.describe(\"revol_bal\")\n",
    "#summary.printSchema()\n",
    "#summary.show()\n",
    "pandaDf = summary.toPandas()\n",
    "min_string = pandaDf[pandaDf['summary'] == 'min']['revol_bal'].iloc[0]\n",
    "max_string = pandaDf[pandaDf['summary'] == 'max']['revol_bal'].iloc[0]\n",
    "mean_string = pandaDf[pandaDf['summary'] == 'mean']['revol_bal'].iloc[0]\n",
    "\n",
    "medianAndQuantiles = loanDF4.stat.approxQuantile(\"revol_bal\",[0.25,0.5,0.75],0.0)\n",
    "(q1,median,q3) = (medianAndQuantiles[0], medianAndQuantiles[1], medianAndQuantiles[2])\n",
    "\n",
    "#Boxplot from precomputed values\n",
    "item = {}\n",
    "\n",
    "item[\"label\"] = 'Revolving Balance' \n",
    "item[\"mean\"] = float(mean_string) \n",
    "item[\"med\"] = median \n",
    "item[\"q1\"] = q1\n",
    "item[\"q3\"] = q3\n",
    "item[\"whislo\"] = float(min_string) \n",
    "item[\"whishi\"] = float(max_string)\n",
    "item[\"fliers\"] = []\n",
    "stats = [item]\n",
    "\n",
    "fig, axes = plt.subplots(1, 1)\n",
    "axes.bxp(stats)\n",
    "axes.set_title('Five Point Summary')\n",
    "plt.show()"
   ]
  },
  {
   "cell_type": "code",
   "execution_count": 41,
   "metadata": {},
   "outputs": [
    {
     "data": {
      "image/png": "[encoded data removed]",
      "text/plain": [
       "<Figure size 432x288 with 1 Axes>"
      ]
     },
     "metadata": {
      "needs_background": "light"
     },
     "output_type": "display_data"
    }
   ],
   "source": [
    "#Revolving utilization (%)\n",
    "summary = loanDF4.describe(\"revol_util_num\")\n",
    "#summary.printSchema()\n",
    "#summary.show()\n",
    "pandaDf = summary.toPandas()\n",
    "min_string = pandaDf[pandaDf['summary'] == 'min']['revol_util_num'].iloc[0]\n",
    "max_string = pandaDf[pandaDf['summary'] == 'max']['revol_util_num'].iloc[0]\n",
    "mean_string = pandaDf[pandaDf['summary'] == 'mean']['revol_util_num'].iloc[0]\n",
    "\n",
    "medianAndQuantiles = loanDF4.stat.approxQuantile(\"revol_util_num\",[0.25,0.5,0.75],0.0)\n",
    "(q1,median,q3) = (medianAndQuantiles[0], medianAndQuantiles[1], medianAndQuantiles[2])\n",
    "\n",
    "#Boxplot from precomputed values\n",
    "item = {}\n",
    "\n",
    "item[\"label\"] = 'Revolving Utilization(%)' \n",
    "item[\"mean\"] = float(mean_string) \n",
    "item[\"med\"] = median \n",
    "item[\"q1\"] = q1\n",
    "item[\"q3\"] = q3\n",
    "item[\"whislo\"] = float(min_string) \n",
    "item[\"whishi\"] = float(max_string)\n",
    "item[\"fliers\"] = []\n",
    "stats = [item]\n",
    "\n",
    "fig, axes = plt.subplots(1, 1)\n",
    "axes.bxp(stats)\n",
    "axes.set_title('Five Point Summary')\n",
    "plt.show()"
   ]
  },
  {
   "cell_type": "code",
   "execution_count": 42,
   "metadata": {},
   "outputs": [
    {
     "data": {
      "image/png": "[encoded data removed]",
      "text/plain": [
       "<Figure size 432x288 with 1 Axes>"
      ]
     },
     "metadata": {
      "needs_background": "light"
     },
     "output_type": "display_data"
    }
   ],
   "source": [
    "#Total Payment\n",
    "summary = loanDF4.describe(\"total_pymnt\")\n",
    "#summary.printSchema()\n",
    "#summary.show()\n",
    "pandaDf = summary.toPandas()\n",
    "min_string = pandaDf[pandaDf['summary'] == 'min']['total_pymnt'].iloc[0]\n",
    "max_string = pandaDf[pandaDf['summary'] == 'max']['total_pymnt'].iloc[0]\n",
    "mean_string = pandaDf[pandaDf['summary'] == 'mean']['total_pymnt'].iloc[0]\n",
    "\n",
    "medianAndQuantiles = loanDF4.stat.approxQuantile(\"total_pymnt\",[0.25,0.5,0.75],0.0)\n",
    "(q1,median,q3) = (medianAndQuantiles[0], medianAndQuantiles[1], medianAndQuantiles[2])\n",
    "\n",
    "#Boxplot from precomputed values\n",
    "item = {}\n",
    "\n",
    "item[\"label\"] = 'Total Payment' \n",
    "item[\"mean\"] = float(mean_string) \n",
    "item[\"med\"] = median \n",
    "item[\"q1\"] = q1\n",
    "item[\"q3\"] = q3\n",
    "item[\"whislo\"] = float(min_string) \n",
    "item[\"whishi\"] = float(max_string)\n",
    "item[\"fliers\"] = []\n",
    "stats = [item]\n",
    "\n",
    "fig, axes = plt.subplots(1, 1)\n",
    "axes.bxp(stats)\n",
    "axes.set_title('Five Point Summary')\n",
    "plt.show()"
   ]
  },
  {
   "cell_type": "code",
   "execution_count": null,
   "metadata": {},
   "outputs": [],
   "source": [
    "#Barchart showing distribution of Loan Status"
   ]
  },
  {
   "cell_type": "code",
   "execution_count": 70,
   "metadata": {},
   "outputs": [
    {
     "ename": "TypeError",
     "evalue": "unsupported operand type(s) for +: 'int' and 'DataFrame'",
     "output_type": "error",
     "traceback": [
      "\u001b[0;31m---------------------------------------------------------------------------\u001b[0m",
      "\u001b[0;31mTypeError\u001b[0m                                 Traceback (most recent call last)",
      "\u001b[0;32m<ipython-input-70-3eba7055e021>\u001b[0m in \u001b[0;36m<module>\u001b[0;34m\u001b[0m\n\u001b[1;32m      1\u001b[0m \u001b[0mloan_status\u001b[0m \u001b[0;34m=\u001b[0m \u001b[0mloanDF4\u001b[0m\u001b[0;34m.\u001b[0m\u001b[0mselect\u001b[0m\u001b[0;34m(\u001b[0m\u001b[0;34m\"loan_status\"\u001b[0m\u001b[0;34m)\u001b[0m\u001b[0;34m\u001b[0m\u001b[0;34m\u001b[0m\u001b[0m\n\u001b[0;32m----> 2\u001b[0;31m \u001b[0mplt\u001b[0m\u001b[0;34m.\u001b[0m\u001b[0mbar\u001b[0m\u001b[0;34m(\u001b[0m\u001b[0;36m2\u001b[0m\u001b[0;34m,\u001b[0m \u001b[0mloan_status\u001b[0m\u001b[0;34m,\u001b[0m \u001b[0malign\u001b[0m\u001b[0;34m=\u001b[0m\u001b[0;34m'center'\u001b[0m\u001b[0;34m,\u001b[0m \u001b[0malpha\u001b[0m\u001b[0;34m=\u001b[0m\u001b[0;36m0.5\u001b[0m\u001b[0;34m)\u001b[0m\u001b[0;34m\u001b[0m\u001b[0;34m\u001b[0m\u001b[0m\n\u001b[0m",
      "\u001b[0;32m~/anaconda3/lib/python3.7/site-packages/matplotlib/pyplot.py\u001b[0m in \u001b[0;36mbar\u001b[0;34m(x, height, width, bottom, align, data, **kwargs)\u001b[0m\n\u001b[1;32m   2457\u001b[0m     return gca().bar(\n\u001b[1;32m   2458\u001b[0m         \u001b[0mx\u001b[0m\u001b[0;34m,\u001b[0m \u001b[0mheight\u001b[0m\u001b[0;34m,\u001b[0m \u001b[0mwidth\u001b[0m\u001b[0;34m=\u001b[0m\u001b[0mwidth\u001b[0m\u001b[0;34m,\u001b[0m \u001b[0mbottom\u001b[0m\u001b[0;34m=\u001b[0m\u001b[0mbottom\u001b[0m\u001b[0;34m,\u001b[0m \u001b[0malign\u001b[0m\u001b[0;34m=\u001b[0m\u001b[0malign\u001b[0m\u001b[0;34m,\u001b[0m\u001b[0;34m\u001b[0m\u001b[0;34m\u001b[0m\u001b[0m\n\u001b[0;32m-> 2459\u001b[0;31m         **({\"data\": data} if data is not None else {}), **kwargs)\n\u001b[0m\u001b[1;32m   2460\u001b[0m \u001b[0;34m\u001b[0m\u001b[0m\n\u001b[1;32m   2461\u001b[0m \u001b[0;34m\u001b[0m\u001b[0m\n",
      "\u001b[0;32m~/anaconda3/lib/python3.7/site-packages/matplotlib/__init__.py\u001b[0m in \u001b[0;36minner\u001b[0;34m(ax, data, *args, **kwargs)\u001b[0m\n\u001b[1;32m   1808\u001b[0m                         \u001b[0;34m\"the Matplotlib list!)\"\u001b[0m \u001b[0;34m%\u001b[0m \u001b[0;34m(\u001b[0m\u001b[0mlabel_namer\u001b[0m\u001b[0;34m,\u001b[0m \u001b[0mfunc\u001b[0m\u001b[0;34m.\u001b[0m\u001b[0m__name__\u001b[0m\u001b[0;34m)\u001b[0m\u001b[0;34m,\u001b[0m\u001b[0;34m\u001b[0m\u001b[0;34m\u001b[0m\u001b[0m\n\u001b[1;32m   1809\u001b[0m                         RuntimeWarning, stacklevel=2)\n\u001b[0;32m-> 1810\u001b[0;31m             \u001b[0;32mreturn\u001b[0m \u001b[0mfunc\u001b[0m\u001b[0;34m(\u001b[0m\u001b[0max\u001b[0m\u001b[0;34m,\u001b[0m \u001b[0;34m*\u001b[0m\u001b[0margs\u001b[0m\u001b[0;34m,\u001b[0m \u001b[0;34m**\u001b[0m\u001b[0mkwargs\u001b[0m\u001b[0;34m)\u001b[0m\u001b[0;34m\u001b[0m\u001b[0;34m\u001b[0m\u001b[0m\n\u001b[0m\u001b[1;32m   1811\u001b[0m \u001b[0;34m\u001b[0m\u001b[0m\n\u001b[1;32m   1812\u001b[0m         inner.__doc__ = _add_data_doc(inner.__doc__,\n",
      "\u001b[0;32m~/anaconda3/lib/python3.7/site-packages/matplotlib/axes/_axes.py\u001b[0m in \u001b[0;36mbar\u001b[0;34m(self, x, height, width, bottom, align, **kwargs)\u001b[0m\n\u001b[1;32m   2294\u001b[0m                 \u001b[0medgecolor\u001b[0m\u001b[0;34m=\u001b[0m\u001b[0me\u001b[0m\u001b[0;34m,\u001b[0m\u001b[0;34m\u001b[0m\u001b[0;34m\u001b[0m\u001b[0m\n\u001b[1;32m   2295\u001b[0m                 \u001b[0mlinewidth\u001b[0m\u001b[0;34m=\u001b[0m\u001b[0mlw\u001b[0m\u001b[0;34m,\u001b[0m\u001b[0;34m\u001b[0m\u001b[0;34m\u001b[0m\u001b[0m\n\u001b[0;32m-> 2296\u001b[0;31m                 \u001b[0mlabel\u001b[0m\u001b[0;34m=\u001b[0m\u001b[0;34m'_nolegend_'\u001b[0m\u001b[0;34m,\u001b[0m\u001b[0;34m\u001b[0m\u001b[0;34m\u001b[0m\u001b[0m\n\u001b[0m\u001b[1;32m   2297\u001b[0m                 )\n\u001b[1;32m   2298\u001b[0m             \u001b[0mr\u001b[0m\u001b[0;34m.\u001b[0m\u001b[0mupdate\u001b[0m\u001b[0;34m(\u001b[0m\u001b[0mkwargs\u001b[0m\u001b[0;34m)\u001b[0m\u001b[0;34m\u001b[0m\u001b[0;34m\u001b[0m\u001b[0m\n",
      "\u001b[0;32m~/anaconda3/lib/python3.7/site-packages/matplotlib/patches.py\u001b[0m in \u001b[0;36m__init__\u001b[0;34m(self, xy, width, height, angle, **kwargs)\u001b[0m\n\u001b[1;32m    665\u001b[0m \u001b[0;34m\u001b[0m\u001b[0m\n\u001b[1;32m    666\u001b[0m         \u001b[0mself\u001b[0m\u001b[0;34m.\u001b[0m\u001b[0m_x1\u001b[0m \u001b[0;34m=\u001b[0m \u001b[0mself\u001b[0m\u001b[0;34m.\u001b[0m\u001b[0m_x0\u001b[0m \u001b[0;34m+\u001b[0m \u001b[0mself\u001b[0m\u001b[0;34m.\u001b[0m\u001b[0m_width\u001b[0m\u001b[0;34m\u001b[0m\u001b[0;34m\u001b[0m\u001b[0m\n\u001b[0;32m--> 667\u001b[0;31m         \u001b[0mself\u001b[0m\u001b[0;34m.\u001b[0m\u001b[0m_y1\u001b[0m \u001b[0;34m=\u001b[0m \u001b[0mself\u001b[0m\u001b[0;34m.\u001b[0m\u001b[0m_y0\u001b[0m \u001b[0;34m+\u001b[0m \u001b[0mself\u001b[0m\u001b[0;34m.\u001b[0m\u001b[0m_height\u001b[0m\u001b[0;34m\u001b[0m\u001b[0;34m\u001b[0m\u001b[0m\n\u001b[0m\u001b[1;32m    668\u001b[0m \u001b[0;34m\u001b[0m\u001b[0m\n\u001b[1;32m    669\u001b[0m         \u001b[0mself\u001b[0m\u001b[0;34m.\u001b[0m\u001b[0mangle\u001b[0m \u001b[0;34m=\u001b[0m \u001b[0mfloat\u001b[0m\u001b[0;34m(\u001b[0m\u001b[0mangle\u001b[0m\u001b[0;34m)\u001b[0m\u001b[0;34m\u001b[0m\u001b[0;34m\u001b[0m\u001b[0m\n",
      "\u001b[0;31mTypeError\u001b[0m: unsupported operand type(s) for +: 'int' and 'DataFrame'"
     ]
    },
    {
     "data": {
      "image/png": "[encoded data removed]",
      "text/plain": [
       "<Figure size 432x288 with 1 Axes>"
      ]
     },
     "metadata": {
      "needs_background": "light"
     },
     "output_type": "display_data"
    }
   ],
   "source": [
    "loan_status = loanDF4.select(\"loan_status\")\n",
    "plt.bar(2, loan_status, align='center', alpha=0.5)\n",
    "#####NOT WORKING##### PENDING"
   ]
  },
  {
   "cell_type": "code",
   "execution_count": null,
   "metadata": {},
   "outputs": [],
   "source": [
    "objects = ('Python', 'C++', 'Java', 'Perl', 'Scala', 'Lisp')\n",
    "y_pos = np.arange(len(objects))\n",
    "performance = [10,8,6,4,2,1]\n",
    " \n",
    "plt.bar(y_pos, performance, align='center', alpha=0.5)\n",
    "plt.xticks(y_pos, objects)\n",
    "plt.ylabel('Usage')\n",
    "plt.title('Programming language usage')\n",
    " \n",
    "plt.show()"
   ]
  },
  {
   "cell_type": "code",
   "execution_count": 71,
   "metadata": {},
   "outputs": [
    {
     "data": {
      "image/png": "[encoded data removed]",
      "text/plain": [
       "<Figure size 432x288 with 1 Axes>"
      ]
     },
     "metadata": {
      "needs_background": "light"
     },
     "output_type": "display_data"
    }
   ],
   "source": [
    "#Histogram\n",
    "(startValues,counts) = loanDF4.select(\"int_rate_num\").rdd.map(lambda value: value[0]).histogram(5)\n",
    "#print(startValues)\n",
    "#print(counts)\n",
    "\n",
    "mid_point_bins = startValues[:-1]\n",
    "widths = [abs(i - j+1) for i, j in zip(startValues[:-1], startValues[1:])]\n",
    "bar = plt.bar(mid_point_bins, counts, width=widths, color='b', align='edge')\n",
    "plt.show()"
   ]
  },
  {
   "cell_type": "code",
   "execution_count": 77,
   "metadata": {},
   "outputs": [],
   "source": [
    "import seaborn as sns\n",
    "import matplotlib.pyplot as plt\n",
    "carrier_count = loanDF4.select(\"STATE\")\n",
    "#sns.set(style=\"darkgrid\")\n",
    "#sns.barplot(carrier_count.index, carrier_count.values, alpha=0.9)\n",
    "#plt.title('Frequency Distribution of Carriers')\n",
    "#plt.ylabel('Number of Occurrences', fontsize=12)\n",
    "#plt.xlabel('Carrier', fontsize=12)\n",
    "#plt.show()"
   ]
  },
  {
   "cell_type": "code",
   "execution_count": null,
   "metadata": {},
   "outputs": [],
   "source": []
  },
  {
   "cell_type": "markdown",
   "metadata": {},
   "source": [
    "### Cross table distribution and Covariances"
   ]
  },
  {
   "cell_type": "code",
   "execution_count": null,
   "metadata": {},
   "outputs": [],
   "source": []
  },
  {
   "cell_type": "markdown",
   "metadata": {},
   "source": [
    "### 2.1 Spark code about the one explained in \"ETL Summary\""
   ]
  },
  {
   "cell_type": "code",
   "execution_count": null,
   "metadata": {},
   "outputs": [],
   "source": []
  },
  {
   "cell_type": "code",
   "execution_count": 158,
   "metadata": {},
   "outputs": [],
   "source": []
  },
  {
   "cell_type": "markdown",
   "metadata": {},
   "source": [
    "### 2.2 Spark code about the transformations you apply to the variables"
   ]
  },
  {
   "cell_type": "code",
   "execution_count": null,
   "metadata": {},
   "outputs": [],
   "source": []
  },
  {
   "cell_type": "markdown",
   "metadata": {},
   "source": [
    "### 2.3 Code to assemble the variables to a numerical vector (VectorAssembler)"
   ]
  },
  {
   "cell_type": "code",
   "execution_count": null,
   "metadata": {},
   "outputs": [],
   "source": []
  },
  {
   "cell_type": "markdown",
   "metadata": {},
   "source": [
    "### 2.4 Create Pipeline for train and test data"
   ]
  },
  {
   "cell_type": "code",
   "execution_count": null,
   "metadata": {},
   "outputs": [],
   "source": []
  },
  {
   "cell_type": "markdown",
   "metadata": {},
   "source": [
    "### 3. Logistic Regresion Model"
   ]
  },
  {
   "cell_type": "markdown",
   "metadata": {},
   "source": [
    "### 3.1 Write a function \"metrics\" which has a LogisticRegressionModel.summary as input attribute and produces an output of: \n",
    "1. Area under ROC\n",
    "2. False Positive Rate By Label\n",
    "3. True Positive Rate By Label\n",
    "4. Precision By Label\n",
    "5. Recall By Label\n",
    "6. fMeasure By Label\n",
    "7. Accuracy\n",
    "8. False Positive Rate\n",
    "9. True Positive Rate\n",
    "10. fMeasure\n",
    "11. Precision\n",
    "12. Recall"
   ]
  },
  {
   "cell_type": "code",
   "execution_count": null,
   "metadata": {},
   "outputs": [],
   "source": [
    "def metrics(trainingSummary):\n",
    "    \n",
    "    \n",
    "    \n",
    "    "
   ]
  },
  {
   "cell_type": "markdown",
   "metadata": {},
   "source": [
    "### 3.2 Apply a Logistic Regresion Base Model and show the metrics by the function above"
   ]
  },
  {
   "cell_type": "code",
   "execution_count": null,
   "metadata": {},
   "outputs": [],
   "source": []
  },
  {
   "cell_type": "markdown",
   "metadata": {},
   "source": [
    "### 3.2 We are going to try to improve our model:\n",
    "1. Using a `weight column` in our Logistic Regression Model (Take into account we are working with a unbalanced dataset)\n",
    "2. Define a `ParamGridBuilder` with `regParam`, `elasticNetParam` and `maxIter` at least\n",
    "3. Define an `BinaryClassificationEvaluator`\n",
    "4. Using Cross Validation with a 5-fold `CrossValidator`\n",
    "\n",
    "Questions to answer:\n",
    "1. Have we improved the ROC-AUC?\n",
    "2. Which are the average ROC-AUC measurements in the different cross validation runs?\n",
    "3. Which are the parameters of the best model in the 5 k-fold runs?\n",
    "4. Which are the metrics of the best model (training) in the 5 k-fold runs? (Use the function above)\n",
    "5. Which is the ROC-AUC on validation dataset?\n"
   ]
  },
  {
   "cell_type": "code",
   "execution_count": null,
   "metadata": {},
   "outputs": [],
   "source": []
  },
  {
   "cell_type": "markdown",
   "metadata": {},
   "source": [
    "### 4. Random Forest Model\n",
    "1. Define a `ParamGridBuilder` with `maxDepth`, `numTrees` and `maxIter` at least\n",
    "2. Define an `BinaryClassificationEvaluator` (You can use the above one)\n",
    "3. Using Cross Validation with a 5-fold `CrossValidator`\n",
    "\n",
    "Questions to answer:\n",
    "\n",
    "1. Have we improved the ROC-AUC?\n",
    "2. Which are the average ROC-AUC measurements in the different cross validation runs?\n",
    "3. Which are the parameters of the best model in the 5 k-fold runs?\n",
    "4. Which is the importance of the features?\n",
    "5. Print full description of model.\n",
    "6. Which is the ROC-AUC on validation dataset?"
   ]
  },
  {
   "cell_type": "code",
   "execution_count": null,
   "metadata": {},
   "outputs": [],
   "source": []
  },
  {
   "cell_type": "markdown",
   "metadata": {},
   "source": [
    "### 5. Gradient Boosting Model\n",
    "1. Defining a `ParamGridBuilder` with `maxDepth`, `numTrees` and `maxIter` at least (You can use the above one)\n",
    "2. Define an `BinaryClassificationEvaluator` (You can use the above one)\n",
    "3. Using Cross Validation with a 5-fold `CrossValidator`\n",
    "\n",
    "Questions to answer:\n",
    "\n",
    "1. Have we improved the ROC-AUC?\n",
    "2. Which are the average ROC-AUC measurements in the different cross validation runs?\n",
    "3. Which are the parameters of the best model in the 5 k-fold runs?\n",
    "4. Which is the importance of the features?\n",
    "5. Print full description of model.\n",
    "6. Which is the ROC-AUC on validation dataset?"
   ]
  },
  {
   "cell_type": "code",
   "execution_count": null,
   "metadata": {},
   "outputs": [],
   "source": []
  },
  {
   "cell_type": "markdown",
   "metadata": {},
   "source": [
    "### 6. Apply your best model to send the predictions on test"
   ]
  },
  {
   "cell_type": "code",
   "execution_count": null,
   "metadata": {},
   "outputs": [],
   "source": []
  },
  {
   "cell_type": "code",
   "execution_count": null,
   "metadata": {},
   "outputs": [],
   "source": []
  },
  {
   "cell_type": "code",
   "execution_count": 155,
   "metadata": {},
   "outputs": [],
   "source": [
    "sc.stop()"
   ]
  },
  {
   "cell_type": "code",
   "execution_count": null,
   "metadata": {},
   "outputs": [],
   "source": []
  }
 ],
 "metadata": {
  "kernelspec": {
   "display_name": "Python 3",
   "language": "python",
   "name": "python3"
  },
  "language_info": {
   "codemirror_mode": {
    "name": "ipython",
    "version": 3
   },
   "file_extension": ".py",
   "mimetype": "text/x-python",
   "name": "python",
   "nbconvert_exporter": "python",
   "pygments_lexer": "ipython3",
   "version": "3.7.1"
  }
 },
 "nbformat": 4,
 "nbformat_minor": 2
}
