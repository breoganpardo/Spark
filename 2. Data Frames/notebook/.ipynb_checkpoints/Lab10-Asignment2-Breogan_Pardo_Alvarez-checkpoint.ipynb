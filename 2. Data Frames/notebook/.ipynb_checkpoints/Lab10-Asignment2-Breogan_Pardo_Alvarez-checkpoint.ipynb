{
 "cells": [
  {
   "cell_type": "markdown",
   "metadata": {},
   "source": [
    "# Lab 10 - Assignment 2\n",
    "At the end of the year there are many departments of the company that request different data, both to perform analytics and to generate external reports.\n",
    "\n",
    "The Data and Business Intelligence director has called his Data Engineering team and has listed the Dataset that they have to generate to respond to the different requests they have had.\n",
    "\n",
    "To carry out the work, they have different text files ingested from the different databases of the company's management systems. These are:\n",
    "\n",
    "1. \"transactions-asignment.csv\". It is the file with all the transactions for year 2018 with columns: TransactionID, CustomerID, Date, Product, Group, Amount, PaymentType, Country.\n",
    "2. \"customer-data-asignment.csv\". It is the file with columns: CustomerID, CardNumber. It contains the relationship between the customer and his credit card identity.\n",
    "3. \"country-vat.csv\". It is the file with columns: VAT, Country. It contains the relationship between each Country and the Value Added Tax which is applied for the products.\n",
    "4. The products are labeled by a tag: A to J.\n",
    "5. The groups contains: 'Food', 'Leisure', 'Restaurant', 'Gym', 'Gambling', 'Travel', 'Learning'.\n",
    "6. The payment type contains: 'Visa', 'Cash', 'American', 'PayPal', 'Mastercard', 'Check'.\n",
    "7. The countries where the transactions come from are: 'Italy', 'France', 'Germany', 'USA', 'Brasil', 'UK', 'Switzerland', 'Sweden', 'Denmark', 'Canada', 'Mexico', 'Russia'.\n",
    "\n",
    "The requested data reports are:\n",
    "1. The Product Marketing Department wants to analyze the monthly transactions by country respect to Group and respect to Product inside each Group. For this reason it need two DataFrames: one grouped by Group and other grouped by Product inside each Group. The columns for the first DataFrame should be: *Country, Month, Group, TotalMonth, AvgMonth, Number of Transactions*. And for the second one should be: *Country, Month, Group, Product, TotalMonth, AvgMonth, Number of Transactions*. How many records does each DataFrame?\n",
    "2. Could we say to Marketing Department which is the country and the month with the *highest total month amount* for Restaurant Group? How many transactions have been made for that Country and month?\n",
    "3. Could we say to Marketing Department which is the Product with the *highest total month amount* for Gambling Group and which is the Country and the month for that highest sale?\n",
    "4. The Financial Department needs to liquidate the VAT (the Amount for each transaction is gross, VAT for the country is included) for each country with the tax authority. Could we say to Financial Department which is the Country we should pay  the bigest VAT amount and the amount? And which is the Country we should pay the smaller one and the amount? \n",
    "5. Also they need to know the total amount for type of payment (except the payments in cash) to liquidate with their own bank. Could we say to Financial Department which is the amount paid for every payment type?\n",
    "6. Who is our best customer and what is his/her credit card number?\n",
    "7. Calculate the total income coming from USA by type of payment and from outside USA.\n",
    "8. Which is the relationship between the income from USA and from outside USA for every type of payment.\n",
    "\n",
    "Hint for 4: For the first Dataset about liquidate VAT you first shoul join the transactionsDF with countryVATDF, create a new column with the corresponding VAT for each transactions and after that to group by country and to agregate the sum on the new created column.\n",
    "\n",
    "For the second Dataset we should first filter by payment type different than 'Cash' and after that to group by payment type and aggregate the sum on Amount.\n",
    "\n"
   ]
  },
  {
   "cell_type": "code",
   "execution_count": 1,
   "metadata": {},
   "outputs": [],
   "source": [
    "import os\n",
    "import sys\n",
    "\n",
    "os.environ['SPARK_HOME'] = \"C:\\\\spark-2.3.2-bin-hadoop2.7\\\\\"\n",
    "\n",
    "# Create a variable for our root path\n",
    "SPARK_HOME = os.environ['SPARK_HOME']\n",
    "\n",
    "#Add the following paths to the system path. Please check your installation\n",
    "#to make sure that these zip files actually exist. The names might change\n",
    "#as versions change.\n",
    "sys.path.insert(0,os.path.join(SPARK_HOME,\"python\"))\n",
    "sys.path.insert(0,os.path.join(SPARK_HOME,\"python\",\"lib\"))\n",
    "sys.path.insert(0,os.path.join(SPARK_HOME,\"python\",\"lib\",\"pyspark.zip\"))\n",
    "sys.path.insert(0,os.path.join(SPARK_HOME,\"python\",\"lib\",\"py4j-0.10.7-src.zip\"))\n",
    "\n",
    "#Initialize SparkSession and SparkContext\n",
    "from pyspark.sql import SparkSession\n",
    "#from pyspark import SparkContext\n",
    "\n",
    "#Create a Spark Session\n",
    "MySparkSession = SparkSession \\\n",
    "    .builder \\\n",
    "    .master(\"local[2]\") \\\n",
    "    .appName(\"MiPrimer\") \\\n",
    "    .config(\"spark.executor.memory\", \"6g\") \\\n",
    "    .config(\"spark.cores.max\",\"4\") \\\n",
    "    .getOrCreate()\n",
    "\n",
    "\n",
    "#Get the Spark Context from Spark Session    \n",
    "MySparkContext = MySparkSession.sparkContext"
   ]
  },
  {
   "cell_type": "code",
   "execution_count": 2,
   "metadata": {},
   "outputs": [
    {
     "data": {
      "text/html": [
       "\n",
       "        <div>\n",
       "            <p><b>SparkContext</b></p>\n",
       "\n",
       "            <p><a href=\"http://LAPTOP-40SC5VCL:4041\">Spark UI</a></p>\n",
       "\n",
       "            <dl>\n",
       "              <dt>Version</dt>\n",
       "                <dd><code>v2.3.2</code></dd>\n",
       "              <dt>Master</dt>\n",
       "                <dd><code>local[2]</code></dd>\n",
       "              <dt>AppName</dt>\n",
       "                <dd><code>MiPrimer</code></dd>\n",
       "            </dl>\n",
       "        </div>\n",
       "        "
      ],
      "text/plain": [
       "<SparkContext master=local[2] appName=MiPrimer>"
      ]
     },
     "execution_count": 2,
     "metadata": {},
     "output_type": "execute_result"
    }
   ],
   "source": [
    "MySparkContext\n"
   ]
  },
  {
   "cell_type": "code",
   "execution_count": 3,
   "metadata": {},
   "outputs": [
    {
     "data": {
      "text/plain": [
       "[('spark.executor.memory', '6g'),\n",
       " ('spark.app.name', 'MiPrimer'),\n",
       " ('spark.rdd.compress', 'True'),\n",
       " ('spark.driver.port', '56734'),\n",
       " ('spark.driver.host', 'LAPTOP-40SC5VCL'),\n",
       " ('spark.app.id', 'local-1551028784450'),\n",
       " ('spark.serializer.objectStreamReset', '100'),\n",
       " ('spark.executor.id', 'driver'),\n",
       " ('spark.submit.deployMode', 'client'),\n",
       " ('spark.ui.showConsoleProgress', 'true'),\n",
       " ('spark.master', 'local[2]'),\n",
       " ('spark.cores.max', '4')]"
      ]
     },
     "execution_count": 3,
     "metadata": {},
     "output_type": "execute_result"
    }
   ],
   "source": [
    "MySparkContext.getConf().getAll()"
   ]
  },
  {
   "cell_type": "markdown",
   "metadata": {},
   "source": [
    "### 1. Creating the DataFrames"
   ]
  },
  {
   "cell_type": "code",
   "execution_count": 4,
   "metadata": {
    "scrolled": true
   },
   "outputs": [],
   "source": [
    "transactionDF=MySparkSession.read.format('csv') \\\n",
    "            .option(\"inferSchema\", \"true\") \\\n",
    "            .option(\"header\",\"true\")\\\n",
    "            .load('../data/transactions-asignment.csv') \n",
    "\n",
    "customerDF = MySparkSession.read.format('csv') \\\n",
    "            .option(\"inferSchema\", \"true\") \\\n",
    "            .option(\"header\",\"true\")\\\n",
    "            .load('../data/customer-data-asignment.csv')  \n",
    "\n",
    "\n",
    "countryDF = MySparkSession.read.format('csv') \\\n",
    "            .option(\"inferSchema\", \"true\") \\\n",
    "            .option(\"header\",\"true\")\\\n",
    "            .load('../data/country-vat.csv')  \n"
   ]
  },
  {
   "cell_type": "code",
   "execution_count": 5,
   "metadata": {},
   "outputs": [
    {
     "name": "stdout",
     "output_type": "stream",
     "text": [
      "+--------------------+----------+-------------------+-------+-----+------+-----------+-------+\n",
      "|       TransactionID|CustomerID|               Date|Product|Group|Amount|PaymentType|Country|\n",
      "+--------------------+----------+-------------------+-------+-----+------+-----------+-------+\n",
      "|7564e71a-3050-11e...|      4255|2018-07-18 02:36:00|      I|  Gym| 231.0|   American| Sweden|\n",
      "|7565ad98-3050-11e...|     30514|2018-03-08 07:37:00|      D|  Gym|  59.7|      Check| Mexico|\n",
      "+--------------------+----------+-------------------+-------+-----+------+-----------+-------+\n",
      "only showing top 2 rows\n",
      "\n",
      "+----------+--------------+\n",
      "|CustomerID|    CardNumber|\n",
      "+----------+--------------+\n",
      "|         0|15056453071315|\n",
      "|         1|15056453588315|\n",
      "+----------+--------------+\n",
      "only showing top 2 rows\n",
      "\n",
      "+---+-------+\n",
      "|VAT|Country|\n",
      "+---+-------+\n",
      "| 21|  Italy|\n",
      "| 19| France|\n",
      "+---+-------+\n",
      "only showing top 2 rows\n",
      "\n"
     ]
    },
    {
     "data": {
      "text/plain": [
       "(None, None, None)"
      ]
     },
     "execution_count": 5,
     "metadata": {},
     "output_type": "execute_result"
    }
   ],
   "source": [
    "transactionDF.show(2),customerDF.show(2),countryDF.show(2)"
   ]
  },
  {
   "cell_type": "markdown",
   "metadata": {},
   "source": [
    "First, we should generate two new columns for year and month for transactionDF"
   ]
  },
  {
   "cell_type": "code",
   "execution_count": 6,
   "metadata": {
    "scrolled": true
   },
   "outputs": [],
   "source": [
    "from pyspark.sql import functions as f\n",
    "\n",
    "transactionDF = transactionDF.withColumn('Year',f.split(transactionDF.Date,'-')[0])\\\n",
    "                .withColumn('Month',f.split(transactionDF.Date,'-')[1])\\\n",
    "                .drop('Date')\n"
   ]
  },
  {
   "cell_type": "code",
   "execution_count": 7,
   "metadata": {},
   "outputs": [
    {
     "name": "stdout",
     "output_type": "stream",
     "text": [
      "+--------------------+----------+-------+--------+------+-----------+-------+----+-----+\n",
      "|       TransactionID|CustomerID|Product|   Group|Amount|PaymentType|Country|Year|Month|\n",
      "+--------------------+----------+-------+--------+------+-----------+-------+----+-----+\n",
      "|7564e71a-3050-11e...|      4255|      I|     Gym| 231.0|   American| Sweden|2018|   07|\n",
      "|7565ad98-3050-11e...|     30514|      D|     Gym|  59.7|      Check| Mexico|2018|   03|\n",
      "|7565ad99-3050-11e...|      3853|      B|  Travel|3782.0|       Cash| Mexico|2018|   12|\n",
      "|7565ad9a-3050-11e...|     49729|      I|Gambling| 231.0|      Check|  Italy|2018|   04|\n",
      "|7565ad9b-3050-11e...|     33467|      G|    Food|289.26| Mastercard| Sweden|2018|   02|\n",
      "+--------------------+----------+-------+--------+------+-----------+-------+----+-----+\n",
      "only showing top 5 rows\n",
      "\n"
     ]
    }
   ],
   "source": [
    "transactionDF.show(5)"
   ]
  },
  {
   "cell_type": "markdown",
   "metadata": {},
   "source": [
    "### 1. Datasets for Product Marketing Depatment"
   ]
  },
  {
   "cell_type": "markdown",
   "metadata": {},
   "source": [
    "#### 1.a Build the DataFrames"
   ]
  },
  {
   "cell_type": "markdown",
   "metadata": {},
   "source": [
    "1. The Product Marketing Department wants to analyze the monthly transactions by country respect to Group and respect to Product inside each Group. For this reason it need two DataFrames: one grouped by Group and other grouped by Product inside each Group. The columns for the first DataFrame should be: *Country, Month, Group, TotalMonth, AvgMonth, Number of Transactions*. And for the second one should be: *Country, Month, Group, Product, TotalMonth, AvgMonth, Number of Transactions*. How many records does each DataFrame?"
   ]
  },
  {
   "cell_type": "code",
   "execution_count": 8,
   "metadata": {},
   "outputs": [],
   "source": [
    "from pyspark.sql.functions import col\n",
    "\n",
    "marketingDF1 = transactionDF.groupBy(\"Country\",\"Month\",\"Group\").agg(f.sum('Amount').alias(\"TotalMonth\"),\n",
    "                                                                   f.avg(\"Amount\").alias(\"AvgMonth\"),\n",
    "                                                                   f.count(\"Amount\").alias(\"Number of Transactions\"))\\\n",
    "                            .sort(col(\"Country\").asc(),col(\"Month\").asc())\n",
    "    \n",
    "marketingDF2 = transactionDF.groupBy(\"Country\",\"Month\",\"Group\",\"Product\").agg(f.sum('Amount').alias(\"TotalMonth\"),\n",
    "                                                                   f.avg(\"Amount\").alias(\"AvgMonth\"),\n",
    "                                                                   f.count(\"Amount\").alias(\"Number of Transactions\"))\\\n",
    "                            .sort(col(\"Country\").asc(),col(\"Month\").asc())\n"
   ]
  },
  {
   "cell_type": "code",
   "execution_count": 9,
   "metadata": {},
   "outputs": [],
   "source": [
    "marketingDF1.createOrReplaceTempView(\"transactions_by_group_table\")\n",
    "marketingDF2.createOrReplaceTempView(\"transactions_by_GroupAndProduct_table\")"
   ]
  },
  {
   "cell_type": "code",
   "execution_count": 10,
   "metadata": {},
   "outputs": [
    {
     "name": "stdout",
     "output_type": "stream",
     "text": [
      "+-------+-----+--------+-----------------+------------------+----------------------+\n",
      "|Country|Month|   Group|       TotalMonth|          AvgMonth|Number of Transactions|\n",
      "+-------+-----+--------+-----------------+------------------+----------------------+\n",
      "| Brasil|   01| Leisure|39722.53000000007|  39.9623038229377|                   994|\n",
      "| Brasil|   01|Learning|         199800.0|204.71311475409837|                   976|\n",
      "+-------+-----+--------+-----------------+------------------+----------------------+\n",
      "only showing top 2 rows\n",
      "\n",
      "+-------+-----+--------+-------+------------------+-----------------+----------------------+\n",
      "|Country|Month|   Group|Product|        TotalMonth|         AvgMonth|Number of Transactions|\n",
      "+-------+-----+--------+-------+------------------+-----------------+----------------------+\n",
      "| Brasil|   01|Learning|      H|           26877.0|            289.0|                    93|\n",
      "| Brasil|   01| Leisure|      B|3825.5999999999995|47.81999999999999|                    80|\n",
      "+-------+-----+--------+-------+------------------+-----------------+----------------------+\n",
      "only showing top 2 rows\n",
      "\n"
     ]
    },
    {
     "data": {
      "text/plain": [
       "(None, None)"
      ]
     },
     "execution_count": 10,
     "metadata": {},
     "output_type": "execute_result"
    }
   ],
   "source": [
    "marketingDF1.show(2),marketingDF2.show(2)"
   ]
  },
  {
   "cell_type": "markdown",
   "metadata": {},
   "source": [
    "#### 1.b Number of records"
   ]
  },
  {
   "cell_type": "code",
   "execution_count": 11,
   "metadata": {},
   "outputs": [
    {
     "name": "stdout",
     "output_type": "stream",
     "text": [
      "Number of records for the first DataFrame:  1008\n",
      "Number of records for the second DataFrame:  10080\n"
     ]
    }
   ],
   "source": [
    "print('Number of records for the first DataFrame: ',marketingDF1.count())\n",
    "print('Number of records for the second DataFrame: ',marketingDF2.count())"
   ]
  },
  {
   "cell_type": "markdown",
   "metadata": {},
   "source": [
    "### 2. Response to what is the country and the month with the highest \"total month amount\" for Group  Restaurant"
   ]
  },
  {
   "cell_type": "markdown",
   "metadata": {},
   "source": [
    "2. Could we say to Marketing Department which is the country and the month with the *highest total month amount* for Restaurant Group? How many transactions have been made for that Country and month?"
   ]
  },
  {
   "cell_type": "code",
   "execution_count": 12,
   "metadata": {},
   "outputs": [],
   "source": [
    "#PYSPARK PANDAS\n",
    "# Country|Month|     Group|        TotalMonth|AvgMonth|Count|\n",
    "\n",
    "Max_Total_Month = marketingDF1.where(col(\"Group\")==\"Restaurant\").agg({\"TotalMonth\": \"max\"}).collect()[0][0]\n",
    "marketingDF3=marketingDF1.where(col(\"Group\")==\"Restaurant\").where(col(\"TotalMonth\")==Max_Total_Month)"
   ]
  },
  {
   "cell_type": "code",
   "execution_count": 13,
   "metadata": {},
   "outputs": [
    {
     "name": "stdout",
     "output_type": "stream",
     "text": [
      "+-------+-----+----------+------------------+------------------+----------------------+\n",
      "|Country|Month|     Group|        TotalMonth|          AvgMonth|Number of Transactions|\n",
      "+-------+-----+----------+------------------+------------------+----------------------+\n",
      "|  Italy|   04|Restaurant|118536.14999999997|111.93215297450422|                  1059|\n",
      "+-------+-----+----------+------------------+------------------+----------------------+\n",
      "\n",
      "The number of transactions for Italy in month 04 are: 1059.\n"
     ]
    }
   ],
   "source": [
    "marketingDF3.show()\n",
    "print('The number of transactions for {} in month {} are: {}.'.format(marketingDF3.collect()[0][0],marketingDF3.collect()[0][1],marketingDF3.collect()[0][5]))"
   ]
  },
  {
   "cell_type": "code",
   "execution_count": 14,
   "metadata": {},
   "outputs": [],
   "source": [
    "#PYSPARK SQL\n",
    "query=\"SELECT * FROM transactions_by_group_table WHERE UPPER(Group)='RESTAURANT' ORDER BY TotalMonth DESC LIMIT 1\"\n",
    "marketingDF4=MySparkSession.sql(query)"
   ]
  },
  {
   "cell_type": "code",
   "execution_count": 15,
   "metadata": {},
   "outputs": [
    {
     "name": "stdout",
     "output_type": "stream",
     "text": [
      "+-------+-----+----------+------------------+------------------+----------------------+\n",
      "|Country|Month|     Group|        TotalMonth|          AvgMonth|Number of Transactions|\n",
      "+-------+-----+----------+------------------+------------------+----------------------+\n",
      "|  Italy|   04|Restaurant|118536.14999999997|111.93215297450422|                  1059|\n",
      "+-------+-----+----------+------------------+------------------+----------------------+\n",
      "\n"
     ]
    }
   ],
   "source": [
    "marketingDF4.show()"
   ]
  },
  {
   "cell_type": "markdown",
   "metadata": {},
   "source": [
    "### 3. Response to what is the Product with the highest sale about Gambling and what is the Country and the month"
   ]
  },
  {
   "cell_type": "markdown",
   "metadata": {},
   "source": [
    "3. Could we say to Marketing Department which is the Product with the *highest total month amount* for Gambling Group and which is the Country and the month for that highest sale?"
   ]
  },
  {
   "cell_type": "code",
   "execution_count": 16,
   "metadata": {},
   "outputs": [],
   "source": [
    "#PYSPARK PANDAS\n",
    "# Country|Month|   Group|Product|TotalMonth|AvgMonth|Count|\n",
    "\n",
    "Max_Total_Month_Gambling = marketingDF2.where(col(\"Group\")==\"Gambling\").agg({\"TotalMonth\": \"max\"}).collect()[0][0]\n",
    "marketingDF5 = marketingDF2.where(col(\"Group\")==\"Gambling\").where(col(\"TotalMonth\")>=Max_Total_Month_Gambling)\n"
   ]
  },
  {
   "cell_type": "code",
   "execution_count": 17,
   "metadata": {},
   "outputs": [
    {
     "name": "stdout",
     "output_type": "stream",
     "text": [
      "+-------+-----+--------+-------+----------+--------+----------------------+\n",
      "|Country|Month|   Group|Product|TotalMonth|AvgMonth|Number of Transactions|\n",
      "+-------+-----+--------+-------+----------+--------+----------------------+\n",
      "| Russia|   10|Gambling|      D|   71640.0|   597.0|                   120|\n",
      "+-------+-----+--------+-------+----------+--------+----------------------+\n",
      "\n"
     ]
    }
   ],
   "source": [
    "marketingDF5.show()"
   ]
  },
  {
   "cell_type": "code",
   "execution_count": 18,
   "metadata": {},
   "outputs": [],
   "source": [
    "##PYSPARK SQL\n",
    "query=\"SELECT Country,Month,Group,Product,TotalMonth FROM transactions_by_GroupAndProduct_table WHERE UPPER(Group)='GAMBLING' ORDER BY TotalMonth DESC LIMIT 1\"\n",
    "marketingDF6=MySparkSession.sql(query)\n"
   ]
  },
  {
   "cell_type": "code",
   "execution_count": 19,
   "metadata": {},
   "outputs": [
    {
     "name": "stdout",
     "output_type": "stream",
     "text": [
      "+-------+-----+--------+-------+----------+\n",
      "|Country|Month|   Group|Product|TotalMonth|\n",
      "+-------+-----+--------+-------+----------+\n",
      "| Russia|   10|Gambling|      D|   71640.0|\n",
      "+-------+-----+--------+-------+----------+\n",
      "\n"
     ]
    }
   ],
   "source": [
    "marketingDF6.show()"
   ]
  },
  {
   "cell_type": "markdown",
   "metadata": {},
   "source": [
    "### 4. Response to VAT to liquidate for each country"
   ]
  },
  {
   "cell_type": "markdown",
   "metadata": {},
   "source": [
    "4. The Financial Department needs to liquidate the VAT (the Amount for each transaction is gross, VAT for the country is included) for each country with the tax authority. Could we say to Financial Department which is the Country we should pay  the bigest VAT amount and the amount? And which is the Country we should pay the smaller one and the amount? \n"
   ]
  },
  {
   "cell_type": "code",
   "execution_count": 20,
   "metadata": {},
   "outputs": [],
   "source": [
    "#PYSPARK PANDAS\n",
    "\n",
    "#group by country and total amount\n",
    "DF1= transactionDF.groupBy(\"Country\").agg(f.sum('Amount').alias('total_amount'))\n",
    "\n",
    "#join by country transaction and VAT\n",
    "countryDF=countryDF.withColumnRenamed('Country','VATcountry')\n",
    "DF2=DF1.join(countryDF,DF1.Country==countryDF.VATcountry,'left').drop('VATcountry')\n",
    "\n",
    "#Create a new column net_price and the difference to see the VAT_price\n",
    "#final_price=net_price(1+VAT/100); \n",
    "DF2=DF2.withColumn(\"net_price\",(DF2['total_amount']/(1+(DF2['VAT']/100))))\n",
    "DF2=DF2.withColumn(\"total_VAT\",f.format_number(DF2[\"total_amount\"]-DF2[\"net_price\"],2))\n",
    "\n",
    "DF2_desc = DF2.orderBy(col('total_VAT').desc())\n",
    "DF2_asc = DF2.orderBy(col('total_VAT').asc())"
   ]
  },
  {
   "cell_type": "code",
   "execution_count": 21,
   "metadata": {},
   "outputs": [
    {
     "name": "stdout",
     "output_type": "stream",
     "text": [
      "The country with the highest VAT to be paid is Russia, suming up to 7,968,494.52 €\n",
      "The country with the lowest VAT to be paid is UK, suming up to 6,947,854.91 €\n"
     ]
    }
   ],
   "source": [
    "#Now that it is sorted, just show results\n",
    "print('The country with the highest VAT to be paid is {}, suming up to {} €'.format(DF2_desc.first()[0],DF2_desc.first()[4]))\n",
    "print('The country with the lowest VAT to be paid is {}, suming up to {} €'.format(DF2_asc.first()[0],DF2_asc.first()[4]))"
   ]
  },
  {
   "cell_type": "markdown",
   "metadata": {},
   "source": [
    "### 5. Response to total amount for type of payment (except the payments in cash) to liquidate with their own bank"
   ]
  },
  {
   "cell_type": "markdown",
   "metadata": {},
   "source": [
    "5. Also they need to know the total amount for type of payment (except the payments in cash) to liquidate with their own bank. Could we say to Financial Department which is the amount paid for every payment type?"
   ]
  },
  {
   "cell_type": "code",
   "execution_count": 22,
   "metadata": {},
   "outputs": [],
   "source": [
    "#PYSPARK PANDAS\n",
    "\n",
    "financialDF1=transactionDF.groupBy('PaymentType').agg(f.format_number(f.sum('Amount'),2).alias('total_amount'))\\\n",
    "    .where(col('PaymentType')!='Cash')\n"
   ]
  },
  {
   "cell_type": "code",
   "execution_count": 23,
   "metadata": {},
   "outputs": [
    {
     "name": "stdout",
     "output_type": "stream",
     "text": [
      "+-----------+-------------+\n",
      "|PaymentType| total_amount|\n",
      "+-----------+-------------+\n",
      "|       Visa|91,727,292.28|\n",
      "|      Check|91,842,289.77|\n",
      "| Mastercard|91,343,170.82|\n",
      "|     PayPal|90,871,507.94|\n",
      "|   American|90,893,043.24|\n",
      "+-----------+-------------+\n",
      "\n"
     ]
    }
   ],
   "source": [
    "financialDF1.show()"
   ]
  },
  {
   "cell_type": "code",
   "execution_count": 24,
   "metadata": {},
   "outputs": [],
   "source": [
    "##PYSPARK SQL\n",
    "\n",
    "transactionDF.createOrReplaceTempView('transaction_table')\n",
    "query=\"SELECT PaymentType,SUM(Amount) as total_amount FROM transaction_table GROUP BY PaymentType HAVING PaymentType!='Cash'\"\n",
    "financialDF2=MySparkSession.sql(query)"
   ]
  },
  {
   "cell_type": "code",
   "execution_count": 25,
   "metadata": {},
   "outputs": [
    {
     "name": "stdout",
     "output_type": "stream",
     "text": [
      "+-----------+-------------------+\n",
      "|PaymentType|       total_amount|\n",
      "+-----------+-------------------+\n",
      "|       Visa|9.172729227998891E7|\n",
      "|      Check|9.184228976998927E7|\n",
      "| Mastercard|9.134317081998989E7|\n",
      "|     PayPal|9.087150793998915E7|\n",
      "|   American|9.089304323998988E7|\n",
      "+-----------+-------------------+\n",
      "\n"
     ]
    }
   ],
   "source": [
    "financialDF2.show()"
   ]
  },
  {
   "cell_type": "markdown",
   "metadata": {},
   "source": [
    "### 6. Response to Who is our best customer and what is his/her credit card number"
   ]
  },
  {
   "cell_type": "markdown",
   "metadata": {},
   "source": [
    "6. Who is our best customer and what is his/her credit card number?"
   ]
  },
  {
   "cell_type": "code",
   "execution_count": 26,
   "metadata": {},
   "outputs": [
    {
     "name": "stdout",
     "output_type": "stream",
     "text": [
      "+--------------------+----------+-------+------+------+-----------+-------+----+-----+--------------+\n",
      "|       TransactionID|CustomerID|Product| Group|Amount|PaymentType|Country|Year|Month|    CardNumber|\n",
      "+--------------------+----------+-------+------+------+-----------+-------+----+-----+--------------+\n",
      "|7564e71a-3050-11e...|      4255|      I|   Gym| 231.0|   American| Sweden|2018|   07|15056453083841|\n",
      "|7565ad98-3050-11e...|     30514|      D|   Gym|  59.7|      Check| Mexico|2018|   03|15056453449394|\n",
      "|7565ad99-3050-11e...|      3853|      B|Travel|3782.0|       Cash| Mexico|2018|   12|15056453278189|\n",
      "+--------------------+----------+-------+------+------+-----------+-------+----+-----+--------------+\n",
      "only showing top 3 rows\n",
      "\n"
     ]
    }
   ],
   "source": [
    "#PYSPARK PANDAS\n",
    "#Join tables to have CardNumber together with transaction details\n",
    "new_customerDF=customerDF.withColumnRenamed('CustomerID','customerID_card')\n",
    "userDF=transactionDF.join(new_customerDF,transactionDF.CustomerID==new_customerDF.customerID_card).drop('customerID_card')\n",
    "userDF.show(3)\n"
   ]
  },
  {
   "cell_type": "code",
   "execution_count": 27,
   "metadata": {},
   "outputs": [],
   "source": [
    "#Group by CustomerID\n",
    "financialDF3=userDF.groupBy('CustomerID','CardNumber')\\\n",
    "                          .agg(f.sum('Amount').alias(\"total_amount\"))\\\n",
    "                          .orderBy(col('total_amount').desc())\\\n",
    "                          .limit(1)"
   ]
  },
  {
   "cell_type": "code",
   "execution_count": 28,
   "metadata": {},
   "outputs": [
    {
     "name": "stdout",
     "output_type": "stream",
     "text": [
      "+----------+--------------+------------+\n",
      "|CustomerID|    CardNumber|total_amount|\n",
      "+----------+--------------+------------+\n",
      "|     14575|15056453501289|    40981.03|\n",
      "+----------+--------------+------------+\n",
      "\n"
     ]
    }
   ],
   "source": [
    "financialDF3.show()"
   ]
  },
  {
   "cell_type": "code",
   "execution_count": 29,
   "metadata": {},
   "outputs": [],
   "source": [
    "#PYSPARK SQL\n",
    "customerDF.createOrReplaceTempView('user_table')\n",
    "query=\"SELECT transaction_table.CustomerID,CardNumber,SUM(Amount) as total_amount FROM transaction_table,user_table WHERE transaction_table.CustomerID=user_table.CustomerID GROUP BY transaction_table.CustomerID,CardNumber ORDER BY total_amount DESC LIMIT 1\"\n",
    "financialDF4=MySparkSession.sql(query)"
   ]
  },
  {
   "cell_type": "code",
   "execution_count": 30,
   "metadata": {},
   "outputs": [
    {
     "name": "stdout",
     "output_type": "stream",
     "text": [
      "+----------+--------------+------------+\n",
      "|CustomerID|    CardNumber|total_amount|\n",
      "+----------+--------------+------------+\n",
      "|     14575|15056453501289|    40981.03|\n",
      "+----------+--------------+------------+\n",
      "\n"
     ]
    }
   ],
   "source": [
    "financialDF4.show()"
   ]
  },
  {
   "cell_type": "markdown",
   "metadata": {},
   "source": [
    "### 7. Calculate the total income coming from USA by type of payment"
   ]
  },
  {
   "cell_type": "markdown",
   "metadata": {},
   "source": [
    "7. Calculate the total income coming from USA by type of payment and from outside USA."
   ]
  },
  {
   "cell_type": "code",
   "execution_count": 31,
   "metadata": {},
   "outputs": [],
   "source": [
    "#PYSPARK PANDAS\n",
    "financial_USA=transactionDF.where(col(\"Country\")=='USA').groupBy('PaymentType').agg(f.sum('Amount').alias('total_income_USA'))\n",
    "financial_Out_USA=transactionDF.where(col(\"Country\")!='USA')\\\n",
    "                              .groupBy('PaymentType')\\\n",
    "                              .agg(f.sum('Amount').alias('total_income_OutUSA'))\\\n",
    "                              .withColumnRenamed('PaymentType','paymenttype_out')\n",
    "\n",
    "incomeDF=financial_USA.join(financial_Out_USA,financial_USA.PaymentType==financial_Out_USA.paymenttype_out,'left')\\\n",
    "                              .drop('paymenttype_out')"
   ]
  },
  {
   "cell_type": "code",
   "execution_count": 32,
   "metadata": {},
   "outputs": [
    {
     "name": "stdout",
     "output_type": "stream",
     "text": [
      "+-----------+-----------------+-------------------+\n",
      "|PaymentType| total_income_USA|total_income_OutUSA|\n",
      "+-----------+-----------------+-------------------+\n",
      "|       Visa|7837635.690000074|8.388965658998962E7|\n",
      "|      Check| 7827298.36000004|8.401499140998971E7|\n",
      "| Mastercard| 7750294.77000005|8.359287604999016E7|\n",
      "|     PayPal|7415358.010000042|8.345614992998981E7|\n",
      "|       Cash|7636967.960000036|8.382591183998904E7|\n",
      "|   American|7497234.550000055| 8.33958086899902E7|\n",
      "+-----------+-----------------+-------------------+\n",
      "\n"
     ]
    }
   ],
   "source": [
    "incomeDF.show()"
   ]
  },
  {
   "cell_type": "code",
   "execution_count": 33,
   "metadata": {},
   "outputs": [],
   "source": [
    "#PYSPARK SQL\n",
    "transactionDF.createOrReplaceTempView('transaction_table')\n",
    "\n",
    "query1=\"SELECT PaymentType,SUM(Amount) as total_income_USA FROM transaction_table WHERE UPPER(Country)=='USA' GROUP BY PaymentType\"\n",
    "query2=\"SELECT PaymentType,SUM(Amount) as total_income_Out_USA FROM transaction_table WHERE UPPER(Country)!='USA' GROUP BY PaymentType\"\n",
    "query3=\"SELECT income_USA.Paymenttype,total_income_USA,total_income_Out_USA FROM income_USA,income_Out_USA WHERE income_USA.PaymentType=income_Out_USA.PaymentType\"\n",
    "\n",
    "#Obtain tables\n",
    "USA_financial=MySparkSession.sql(query1)\n",
    "Out_USA_financial=MySparkSession.sql(query2)\n",
    "\n",
    "#Create temporary view to merge\n",
    "USA_financial.createOrReplaceTempView('income_USA')\n",
    "Out_USA_financial.createOrReplaceTempView('income_Out_USA')\n",
    "\n",
    "#Join tables in one\n",
    "total_incomeDF=MySparkSession.sql(query3)"
   ]
  },
  {
   "cell_type": "code",
   "execution_count": 34,
   "metadata": {},
   "outputs": [
    {
     "name": "stdout",
     "output_type": "stream",
     "text": [
      "+-----------+-----------------+--------------------+\n",
      "|Paymenttype| total_income_USA|total_income_Out_USA|\n",
      "+-----------+-----------------+--------------------+\n",
      "|       Visa|7837635.690000074| 8.388965658998962E7|\n",
      "|      Check| 7827298.36000004| 8.401499140998971E7|\n",
      "| Mastercard| 7750294.77000005| 8.359287604999016E7|\n",
      "|     PayPal|7415358.010000042| 8.345614992998981E7|\n",
      "|       Cash|7636967.960000036| 8.382591183998904E7|\n",
      "|   American|7497234.550000055|  8.33958086899902E7|\n",
      "+-----------+-----------------+--------------------+\n",
      "\n"
     ]
    }
   ],
   "source": [
    "total_incomeDF.show()"
   ]
  },
  {
   "cell_type": "markdown",
   "metadata": {},
   "source": [
    "### 8. Which is the relationship between the income from USA and from outside USA for every type of payment."
   ]
  },
  {
   "cell_type": "markdown",
   "metadata": {},
   "source": [
    "8. Which is the relationship between the income from USA and from outside USA for every type of payment."
   ]
  },
  {
   "cell_type": "code",
   "execution_count": 35,
   "metadata": {},
   "outputs": [],
   "source": [
    "#PYSPARK PANDAS\n",
    "#It is asking to compare USA amount with non USA amount\n",
    "proportionDF=incomeDF.withColumn(\"Proportion USA (USA_income/Rest_income) [%]\",((incomeDF['total_income_USA']/(incomeDF['total_income_OutUSA']))*100))\n",
    "proportionDF=proportionDF.withColumn(\"Proportion NO USA  [%]\",(100-proportionDF['Proportion USA (USA_income/Rest_income) [%]']))"
   ]
  },
  {
   "cell_type": "code",
   "execution_count": 36,
   "metadata": {},
   "outputs": [
    {
     "name": "stdout",
     "output_type": "stream",
     "text": [
      "+-----------+-----------------+-------------------+-------------------------------------------+----------------------+\n",
      "|PaymentType| total_income_USA|total_income_OutUSA|Proportion USA (USA_income/Rest_income) [%]|Proportion NO USA  [%]|\n",
      "+-----------+-----------------+-------------------+-------------------------------------------+----------------------+\n",
      "|       Visa|7837635.690000074|8.388965658998962E7|                          9.342791481799107|     90.65720851820089|\n",
      "|      Check| 7827298.36000004|8.401499140998971E7|                           9.31654961648826|     90.68345038351174|\n",
      "| Mastercard| 7750294.77000005|8.359287604999016E7|                          9.271477590225778|     90.72852240977423|\n",
      "|     PayPal|7415358.010000042|8.345614992998981E7|                          8.885334413606044|     91.11466558639395|\n",
      "|       Cash|7636967.960000036|8.382591183998904E7|                          9.110509855923608|     90.88949014407639|\n",
      "|   American|7497234.550000055| 8.33958086899902E7|                          8.989941662259977|     91.01005833774002|\n",
      "+-----------+-----------------+-------------------+-------------------------------------------+----------------------+\n",
      "\n"
     ]
    }
   ],
   "source": [
    "proportionDF.show()"
   ]
  },
  {
   "cell_type": "code",
   "execution_count": 37,
   "metadata": {},
   "outputs": [],
   "source": [
    "proportionDF=proportionDF.toPandas()"
   ]
  },
  {
   "cell_type": "markdown",
   "metadata": {},
   "source": [
    "### Bar chart"
   ]
  },
  {
   "cell_type": "code",
   "execution_count": 38,
   "metadata": {},
   "outputs": [
    {
     "data": {
      "text/plain": [
       "Text(0, 0.5, 'Income expresed 10 millions')"
      ]
     },
     "execution_count": 38,
     "metadata": {},
     "output_type": "execute_result"
    }
   ],
   "source": [
    "import matplotlib.pyplot as plt\n",
    "plt.subplots_adjust(hspace=0.4, wspace=0.2,left=0.5, right=4,top=2, bottom=0.1)\n",
    "proportionDF.plot(x='PaymentType',y=['total_income_USA','total_income_OutUSA'],kind='bar',figsize=(15,4))\n",
    "plt.title('Income coming from USA vs. income coming from outside USA',fontsize=27,pad=15)\n",
    "plt.ylabel('Income expresed 10 millions',fontsize=12,labelpad=5)"
   ]
  },
  {
   "cell_type": "markdown",
   "metadata": {},
   "source": [
    "### Pie Chart"
   ]
  },
  {
   "cell_type": "code",
   "execution_count": 39,
   "metadata": {},
   "outputs": [],
   "source": [
    "proportionDF=proportionDF.drop(labels=['total_income_USA','total_income_OutUSA'], axis=1)\n",
    "proportionDF=proportionDF.set_index(keys='PaymentType').transpose()\n"
   ]
  },
  {
   "cell_type": "code",
   "execution_count": 40,
   "metadata": {},
   "outputs": [
    {
     "data": {
      "text/html": [
       "<div>\n",
       "<style scoped>\n",
       "    .dataframe tbody tr th:only-of-type {\n",
       "        vertical-align: middle;\n",
       "    }\n",
       "\n",
       "    .dataframe tbody tr th {\n",
       "        vertical-align: top;\n",
       "    }\n",
       "\n",
       "    .dataframe thead th {\n",
       "        text-align: right;\n",
       "    }\n",
       "</style>\n",
       "<table border=\"1\" class=\"dataframe\">\n",
       "  <thead>\n",
       "    <tr style=\"text-align: right;\">\n",
       "      <th>PaymentType</th>\n",
       "      <th>Visa</th>\n",
       "      <th>Check</th>\n",
       "      <th>Mastercard</th>\n",
       "      <th>PayPal</th>\n",
       "      <th>Cash</th>\n",
       "      <th>American</th>\n",
       "    </tr>\n",
       "  </thead>\n",
       "  <tbody>\n",
       "    <tr>\n",
       "      <th>Proportion USA (USA_income/Rest_income) [%]</th>\n",
       "      <td>9.342791</td>\n",
       "      <td>9.31655</td>\n",
       "      <td>9.271478</td>\n",
       "      <td>8.885334</td>\n",
       "      <td>9.11051</td>\n",
       "      <td>8.989942</td>\n",
       "    </tr>\n",
       "    <tr>\n",
       "      <th>Proportion NO USA  [%]</th>\n",
       "      <td>90.657209</td>\n",
       "      <td>90.68345</td>\n",
       "      <td>90.728522</td>\n",
       "      <td>91.114666</td>\n",
       "      <td>90.88949</td>\n",
       "      <td>91.010058</td>\n",
       "    </tr>\n",
       "  </tbody>\n",
       "</table>\n",
       "</div>"
      ],
      "text/plain": [
       "PaymentType                                       Visa     Check  Mastercard  \\\n",
       "Proportion USA (USA_income/Rest_income) [%]   9.342791   9.31655    9.271478   \n",
       "Proportion NO USA  [%]                       90.657209  90.68345   90.728522   \n",
       "\n",
       "PaymentType                                     PayPal      Cash   American  \n",
       "Proportion USA (USA_income/Rest_income) [%]   8.885334   9.11051   8.989942  \n",
       "Proportion NO USA  [%]                       91.114666  90.88949  91.010058  "
      ]
     },
     "execution_count": 40,
     "metadata": {},
     "output_type": "execute_result"
    }
   ],
   "source": [
    "proportionDF"
   ]
  },
  {
   "cell_type": "code",
   "execution_count": 41,
   "metadata": {},
   "outputs": [
    {
     "data": {
      "image/png": "[encoded data removed]",
      "text/plain": [
       "<Figure size 576x576 with 1 Axes>"
      ]
     },
     "metadata": {},
     "output_type": "display_data"
    },
    {
     "data": {
      "image/png": "[encoded data removed]",
      "text/plain": [
       "<Figure size 576x576 with 1 Axes>"
      ]
     },
     "metadata": {},
     "output_type": "display_data"
    },
    {
     "data": {
      "image/png": "[encoded data removed]",
      "text/plain": [
       "<Figure size 576x576 with 1 Axes>"
      ]
     },
     "metadata": {},
     "output_type": "display_data"
    },
    {
     "data": {
      "image/png": "[encoded data removed]",
      "text/plain": [
       "<Figure size 576x576 with 1 Axes>"
      ]
     },
     "metadata": {},
     "output_type": "display_data"
    },
    {
     "data": {
      "image/png": "[encoded data removed]",
      "text/plain": [
       "<Figure size 576x576 with 1 Axes>"
      ]
     },
     "metadata": {},
     "output_type": "display_data"
    },
    {
     "data": {
      "image/png": "[encoded data removed]",
      "text/plain": [
       "<Figure size 576x576 with 1 Axes>"
      ]
     },
     "metadata": {},
     "output_type": "display_data"
    }
   ],
   "source": [
    "for i in range(0,6):\n",
    "   # plt.subplot(2,3,i+1)\n",
    "    proportionDF.plot.pie(y=proportionDF.columns[i],figsize=(8,8))\n",
    "    plt.title(label=(proportionDF.columns[i]),fontsize=15)\n",
    "    plt.legend([\"Income proportion from USA\", \"Income proportion outside USA\"],fancybox=True,loc=(1,1),framealpha=1, shadow=True, borderpad=1,fontsize=12)\n",
    "    "
   ]
  },
  {
   "cell_type": "code",
   "execution_count": null,
   "metadata": {},
   "outputs": [],
   "source": []
  },
  {
   "cell_type": "code",
   "execution_count": null,
   "metadata": {},
   "outputs": [],
   "source": []
  },
  {
   "cell_type": "code",
   "execution_count": null,
   "metadata": {},
   "outputs": [],
   "source": []
  },
  {
   "cell_type": "code",
   "execution_count": null,
   "metadata": {},
   "outputs": [],
   "source": []
  },
  {
   "cell_type": "markdown",
   "metadata": {},
   "source": [
    "# END OF ASSIGNMENT 2"
   ]
  },
  {
   "cell_type": "code",
   "execution_count": 42,
   "metadata": {},
   "outputs": [],
   "source": [
    "MySparkContext.stop()"
   ]
  },
  {
   "cell_type": "code",
   "execution_count": null,
   "metadata": {},
   "outputs": [],
   "source": []
  }
 ],
 "metadata": {
  "kernelspec": {
   "display_name": "Python 3",
   "language": "python",
   "name": "python3"
  },
  "language_info": {
   "codemirror_mode": {
    "name": "ipython",
    "version": 3
   },
   "file_extension": ".py",
   "mimetype": "text/x-python",
   "name": "python",
   "nbconvert_exporter": "python",
   "pygments_lexer": "ipython3",
   "version": "3.7.1"
  }
 },
 "nbformat": 4,
 "nbformat_minor": 2
}
