{
 "cells": [
  {
   "cell_type": "markdown",
   "metadata": {},
   "source": [
    "# Assignment 1\n",
    "In this assignment, we\twill be reducing large datasets, which can take a lot of time. We should use the map-reduce logic as learned in the sessions.\n",
    "\n",
    "Load the directory `activations_xml` in your file system.\n",
    "\n",
    "Each XML file contains data for all the\tdevices activated by customers during the 12 months of several years (many activations per file). Sample input data: \n",
    "```xml\n",
    "<activations>\n",
    "\t<activation timestamp=\"2013-1-18 11:53.000\" type=\"phone\">\n",
    "\t\t<account-number>454721</account-number>\n",
    "\t\t<device-id>d051735e-cd2d-11e8-a49d-b86b239563ce</device-id>\n",
    "\t\t<phone-number>66641135</phone-number>\n",
    "\t\t<model>WIKO</model>\n",
    "\t</activation>\n",
    "\t<activation timestamp=\"2013-1-21 03:55.000\" type=\"phone\">\n",
    "\t\t<account-number>239096</account-number>\n",
    "\t\t<device-id>d051735f-cd2d-11e8-a2c0-b86b239563ce</device-id>\n",
    "\t\t<phone-number>42743767</phone-number>\n",
    "\t\t<model>HTC</model>\n",
    "\t</activation>\n",
    "    ...............\n",
    "</activations>\n",
    "```\n",
    "For convenience you have been provided with functions to parse the XML,\tas that is not the focus of this exercise. This functions are:\n",
    "```python\n",
    "import xml.etree.ElementTree as ElementTree\n",
    "\n",
    "# Given a string containing XML, parse the string, and \n",
    "# return an iterator of activation XML records (Elements) contained in the string\n",
    "def getActivations(s):\n",
    "    filetree = ElementTree.fromstring(s)\n",
    "    return filetree.getiterator('activation')\n",
    "    \n",
    "# Given an activation record (XML Element), return the model name\n",
    "def getModel(activation):\n",
    "    return activation.find('model').text \n",
    "\n",
    "# Given an activation record (XML Element), return the account number \n",
    "def getAccount(activation):\n",
    "    return activation.find('account-number').text \n",
    "```\n",
    "To proccess files you should:\n",
    "1. Use wholeTextFiles to create an RDD from the activations dataset. The resulting RDD will consist of tuples, in which the first value is the name of the file, and the second value is the contents of the file (XML) as a string.\n",
    "2. Each\tXML file can contain many activation records; use flatMap to map the contents of each file to a collection of XML records by calling the provided getActivations function. getActivations takes an XML string, parses it, and returns a collection of XML records; flatMap maps each record\tto a separate RDD element.\n",
    "3. Map each activation record to a string in the format account-number:model. Use the provided getAccount and getModel functions to find the values from the activation record.\n",
    "4. Save the formatted strings to a text file in the directory\n",
    "5. Map each activation record to a string in the format (account-number,model) to build a `pairRDD` to answer the following questions. Use the provided getAccount and getModel functions to find the values from the activation record.\n",
    "\n",
    "QUESTIONS:\n",
    "1. Get the top 5 accounts with highest number of activations. Hint: build the proper `pairRDD` and use `reduceByKey()` and `sortBy()`.\n",
    "2. Get the top 5 models with highest number of activations. Hint: build the proper `pairRDD` and use `reduceByKey()` and `sortBy()`.\n",
    "3. How many distinct accounts have activated a model in these years. Hint: build the proper `pairRDD` and use `distinct()`\n",
    "4. Get how many accounts activated a model for each frequency. Hint: try to reverse (account-number,activations) to (activations,account-number) and try `countByKey()`.\n",
    "5. Get the models of the top 5 accounts which have activated more models. Hint: From the question 1 we know the accounts with more activations, now we want to know these models. Build the proper `pairRDD` and use `groupByKey()` and `sortBy()`. To print out the models, you should use Python sentences to get data from the pyspark return."
   ]
  },
  {
   "cell_type": "code",
   "execution_count": 1,
   "metadata": {},
   "outputs": [],
   "source": [
    "import os\n",
    "import sys\n",
    "\n",
    "os.environ['SPARK_HOME'] = \"C:\\\\spark-2.3.2-bin-hadoop2.7\\\\\"\n",
    "\n",
    "# Create a variable for our root path\n",
    "SPARK_HOME = os.environ['SPARK_HOME']\n",
    "\n",
    "#Add the following paths to the system path. Please check your installation\n",
    "#to make sure that these zip files actually exist. The names might change\n",
    "#as versions change.\n",
    "sys.path.insert(0,os.path.join(SPARK_HOME,\"python\"))\n",
    "sys.path.insert(0,os.path.join(SPARK_HOME,\"python\",\"lib\"))\n",
    "sys.path.insert(0,os.path.join(SPARK_HOME,\"python\",\"lib\",\"pyspark.zip\"))\n",
    "sys.path.insert(0,os.path.join(SPARK_HOME,\"python\",\"lib\",\"py4j-0.10.7-src.zip\"))\n",
    "\n",
    "#Initialize SparkSession and SparkContext\n",
    "from pyspark.sql import SparkSession\n",
    "\n",
    "#Create a Spark Session\n",
    "spark = SparkSession \\\n",
    "    .builder \\\n",
    "    .master(\"local[2]\") \\\n",
    "    .appName(\"MiPrimer\") \\\n",
    "    .config(\"spark.executor.memory\", \"6g\") \\\n",
    "    .config(\"spark.cores.max\",\"4\") \\\n",
    "    .getOrCreate()\n",
    "\n",
    "\n",
    "#Get the Spark Context from Spark Session    \n",
    "sc = spark.sparkContext"
   ]
  },
  {
   "cell_type": "code",
   "execution_count": 2,
   "metadata": {},
   "outputs": [],
   "source": [
    "import xml.etree.ElementTree as ElementTree\n",
    "\n",
    "# Given a string containing XML, parse the string, and \n",
    "# return an iterator of activation XML records (Elements) contained in the string\n",
    "def getActivations(s):\n",
    "    filetree = ElementTree.fromstring(s)\n",
    "    return filetree.getiterator('activation')\n",
    "\n",
    "# Given an activation record (XML Element), return the model name\n",
    "def getModel(activation):\n",
    "    return activation.find('model').text \n",
    "\n",
    "# Given an activation record (XML Element), return the account number \n",
    "def getAccount(activation):\n",
    "    return activation.find('account-number').text "
   ]
  },
  {
   "cell_type": "markdown",
   "metadata": {},
   "source": [
    "### 1. Use `wholeTextFiles()` with xml directory"
   ]
  },
  {
   "cell_type": "code",
   "execution_count": 3,
   "metadata": {},
   "outputs": [],
   "source": []
  },
  {
   "cell_type": "markdown",
   "metadata": {},
   "source": [
    "### 2. Use `flatMap()` to load an activation into each RDD register"
   ]
  },
  {
   "cell_type": "code",
   "execution_count": 4,
   "metadata": {},
   "outputs": [],
   "source": []
  },
  {
   "cell_type": "markdown",
   "metadata": {},
   "source": [
    "### 3. Map each activation record to \"account-number:model-name\""
   ]
  },
  {
   "cell_type": "code",
   "execution_count": 5,
   "metadata": {
    "scrolled": true
   },
   "outputs": [],
   "source": []
  },
  {
   "cell_type": "markdown",
   "metadata": {},
   "source": [
    "### 4. Save the data to a file"
   ]
  },
  {
   "cell_type": "code",
   "execution_count": 6,
   "metadata": {
    "scrolled": true
   },
   "outputs": [],
   "source": []
  },
  {
   "cell_type": "markdown",
   "metadata": {},
   "source": [
    "### 5. New `map` for the questions"
   ]
  },
  {
   "cell_type": "code",
   "execution_count": 7,
   "metadata": {},
   "outputs": [],
   "source": []
  },
  {
   "cell_type": "markdown",
   "metadata": {},
   "source": [
    "#### 5.1 Get the top 5 accounts with highest number of activations."
   ]
  },
  {
   "cell_type": "code",
   "execution_count": null,
   "metadata": {},
   "outputs": [],
   "source": []
  },
  {
   "cell_type": "markdown",
   "metadata": {},
   "source": [
    "#### 5.2 Get the top 5 models with highest number of activations."
   ]
  },
  {
   "cell_type": "code",
   "execution_count": null,
   "metadata": {},
   "outputs": [],
   "source": []
  },
  {
   "cell_type": "markdown",
   "metadata": {},
   "source": [
    "#### 5.3 How many distinct accounts have activated a model in these years"
   ]
  },
  {
   "cell_type": "code",
   "execution_count": null,
   "metadata": {},
   "outputs": [],
   "source": []
  },
  {
   "cell_type": "markdown",
   "metadata": {},
   "source": [
    "#### 5.4 Get how many accounts activated a model for each frequency"
   ]
  },
  {
   "cell_type": "code",
   "execution_count": null,
   "metadata": {},
   "outputs": [],
   "source": []
  },
  {
   "cell_type": "markdown",
   "metadata": {},
   "source": [
    "#### 5.5 Get the models of the top 5 accounts which have activated more models"
   ]
  },
  {
   "cell_type": "code",
   "execution_count": null,
   "metadata": {},
   "outputs": [],
   "source": []
  },
  {
   "cell_type": "code",
   "execution_count": null,
   "metadata": {},
   "outputs": [],
   "source": []
  },
  {
   "cell_type": "code",
   "execution_count": 49,
   "metadata": {},
   "outputs": [],
   "source": [
    "sc.stop()"
   ]
  },
  {
   "cell_type": "code",
   "execution_count": null,
   "metadata": {},
   "outputs": [],
   "source": []
  }
 ],
 "metadata": {
  "kernelspec": {
   "display_name": "Python 3",
   "language": "python",
   "name": "python3"
  },
  "language_info": {
   "codemirror_mode": {
    "name": "ipython",
    "version": 3
   },
   "file_extension": ".py",
   "mimetype": "text/x-python",
   "name": "python",
   "nbconvert_exporter": "python",
   "pygments_lexer": "ipython3",
   "version": "3.6.3"
  }
 },
 "nbformat": 4,
 "nbformat_minor": 2
}
